{
  "cells": [
    {
      "cell_type": "markdown",
      "metadata": {
        "id": "view-in-github",
        "colab_type": "text"
      },
      "source": [
        "<a href=\"https://colab.research.google.com/github/BentheBurema/TM10007_ML_Project_group14/blob/main/Alicia_RFECV_differentkernels.ipynb\" target=\"_parent\"><img src=\"https://colab.research.google.com/assets/colab-badge.svg\" alt=\"Open In Colab\"/></a>"
      ]
    },
    {
      "cell_type": "markdown",
      "metadata": {
        "id": "7SXpaKwwGe5x"
      },
      "source": [
        "# TM10007 Assignment Group 14 Dataset 2\n"
      ]
    },
    {
      "cell_type": "markdown",
      "source": [
        "## Importing libraries"
      ],
      "metadata": {
        "id": "gVOV5PTqgx4n"
      }
    },
    {
      "cell_type": "code",
      "source": [
        "# Basic packages\n",
        "import numpy as np\n",
        "import pandas as pd\n",
        "import seaborn\n",
        "import matplotlib.pyplot as plt\n",
        "\n",
        "# Inspecting dataset\n",
        "from scipy.stats import kstest\n",
        "\n",
        "# Splitting dataset\n",
        "from sklearn import model_selection\n",
        "\n",
        "# Pre-processing\n",
        "from sklearn.preprocessing import RobustScaler\n",
        "from sklearn import preprocessing, model_selection, decomposition, svm, feature_selection\n",
        "from sklearn.datasets import make_classification\n",
        "from sklearn.feature_selection import SelectKBest, f_classif, VarianceThreshold\n",
        "from scipy.stats import skew, kurtosis, norm, kstest\n",
        "from sklearn.feature_selection import RFECV\n",
        "from sklearn.linear_model import LogisticRegression\n",
        "from sklearn.model_selection import StratifiedKFold\n"
      ],
      "metadata": {
        "id": "g9AZir9Zg1gp"
      },
      "execution_count": 31,
      "outputs": []
    },
    {
      "cell_type": "code",
      "execution_count": 2,
      "metadata": {
        "colab": {
          "base_uri": "https://localhost:8080/"
        },
        "id": "CiDn2Sk-VWqE",
        "outputId": "c09cd78a-fca9-4a82-9fe0-1f926f61a459"
      },
      "outputs": [
        {
          "output_type": "stream",
          "name": "stdout",
          "text": [
            "  Preparing metadata (setup.py) ... \u001b[?25l\u001b[?25hdone\n",
            "\u001b[2K     \u001b[90m━━━━━━━━━━━━━━━━━━━━━━━━━━━━━━━━━━━━━━━━\u001b[0m \u001b[32m23.7/23.7 MB\u001b[0m \u001b[31m21.8 MB/s\u001b[0m eta \u001b[36m0:00:00\u001b[0m\n",
            "\u001b[2K     \u001b[90m━━━━━━━━━━━━━━━━━━━━━━━━━━━━━━━━━━━━━━━━\u001b[0m \u001b[32m823.6/823.6 kB\u001b[0m \u001b[31m47.0 MB/s\u001b[0m eta \u001b[36m0:00:00\u001b[0m\n",
            "\u001b[2K     \u001b[90m━━━━━━━━━━━━━━━━━━━━━━━━━━━━━━━━━━━━━━━━\u001b[0m \u001b[32m14.1/14.1 MB\u001b[0m \u001b[31m69.6 MB/s\u001b[0m eta \u001b[36m0:00:00\u001b[0m\n",
            "\u001b[2K     \u001b[90m━━━━━━━━━━━━━━━━━━━━━━━━━━━━━━━━━━━━━━━━\u001b[0m \u001b[32m731.7/731.7 MB\u001b[0m \u001b[31m1.9 MB/s\u001b[0m eta \u001b[36m0:00:00\u001b[0m\n",
            "\u001b[2K     \u001b[90m━━━━━━━━━━━━━━━━━━━━━━━━━━━━━━━━━━━━━━━━\u001b[0m \u001b[32m410.6/410.6 MB\u001b[0m \u001b[31m2.7 MB/s\u001b[0m eta \u001b[36m0:00:00\u001b[0m\n",
            "\u001b[2K     \u001b[90m━━━━━━━━━━━━━━━━━━━━━━━━━━━━━━━━━━━━━━━━\u001b[0m \u001b[32m121.6/121.6 MB\u001b[0m \u001b[31m7.0 MB/s\u001b[0m eta \u001b[36m0:00:00\u001b[0m\n",
            "\u001b[2K     \u001b[90m━━━━━━━━━━━━━━━━━━━━━━━━━━━━━━━━━━━━━━━━\u001b[0m \u001b[32m56.5/56.5 MB\u001b[0m \u001b[31m13.7 MB/s\u001b[0m eta \u001b[36m0:00:00\u001b[0m\n",
            "\u001b[2K     \u001b[90m━━━━━━━━━━━━━━━━━━━━━━━━━━━━━━━━━━━━━━━━\u001b[0m \u001b[32m124.2/124.2 MB\u001b[0m \u001b[31m8.4 MB/s\u001b[0m eta \u001b[36m0:00:00\u001b[0m\n",
            "\u001b[2K     \u001b[90m━━━━━━━━━━━━━━━━━━━━━━━━━━━━━━━━━━━━━━━━\u001b[0m \u001b[32m196.0/196.0 MB\u001b[0m \u001b[31m2.4 MB/s\u001b[0m eta \u001b[36m0:00:00\u001b[0m\n",
            "\u001b[2K     \u001b[90m━━━━━━━━━━━━━━━━━━━━━━━━━━━━━━━━━━━━━━━━\u001b[0m \u001b[32m166.0/166.0 MB\u001b[0m \u001b[31m7.0 MB/s\u001b[0m eta \u001b[36m0:00:00\u001b[0m\n",
            "\u001b[2K     \u001b[90m━━━━━━━━━━━━━━━━━━━━━━━━━━━━━━━━━━━━━━━━\u001b[0m \u001b[32m99.1/99.1 kB\u001b[0m \u001b[31m10.2 MB/s\u001b[0m eta \u001b[36m0:00:00\u001b[0m\n",
            "\u001b[2K     \u001b[90m━━━━━━━━━━━━━━━━━━━━━━━━━━━━━━━━━━━━━━━━\u001b[0m \u001b[32m21.1/21.1 MB\u001b[0m \u001b[31m49.3 MB/s\u001b[0m eta \u001b[36m0:00:00\u001b[0m\n",
            "\u001b[?25h  Building wheel for ktml (setup.py) ... \u001b[?25l\u001b[?25hdone\n"
          ]
        }
      ],
      "source": [
        "# Run this to use from colab environment\n",
        "!pip install -q --upgrade git+https://github.com/jveenland/tm10007_ml.git"
      ]
    },
    {
      "cell_type": "markdown",
      "metadata": {
        "id": "y2D2ap0-PTHT"
      },
      "source": [
        "## Data loading\n"
      ]
    },
    {
      "cell_type": "code",
      "source": [
        "# Data loading functions.\n",
        "!git clone https://github.com/BentheBurema/TM10007_ML_Project_group14.git # ik snap niet waarom we dit doen? timo\n",
        "from worcliver.load_data import load_data\n",
        "data = load_data()"
      ],
      "metadata": {
        "id": "ixrCL9-7P_eh",
        "outputId": "68652613-774b-4909-dee5-afceff3d6f5d",
        "colab": {
          "base_uri": "https://localhost:8080/"
        }
      },
      "execution_count": 3,
      "outputs": [
        {
          "output_type": "stream",
          "name": "stdout",
          "text": [
            "Cloning into 'TM10007_ML_Project_group14'...\n",
            "remote: Enumerating objects: 153, done.\u001b[K\n",
            "remote: Counting objects: 100% (153/153), done.\u001b[K\n",
            "remote: Compressing objects: 100% (103/103), done.\u001b[K\n",
            "remote: Total 153 (delta 69), reused 113 (delta 48), pack-reused 0\u001b[K\n",
            "Receiving objects: 100% (153/153), 72.98 MiB | 30.03 MiB/s, done.\n",
            "Resolving deltas: 100% (69/69), done.\n"
          ]
        }
      ]
    },
    {
      "cell_type": "markdown",
      "source": [
        "## Inspecting data"
      ],
      "metadata": {
        "id": "Y9uvDygkgPbJ"
      }
    },
    {
      "cell_type": "code",
      "source": [
        "# Finding the number of missing and incorrect values\n",
        "print(f\"Number of None types: {data.isnull().sum().sum()}\")     # Count number of None types\n",
        "print(f\"Number of NaN values: {data.isna().sum().sum()}\")       # Count number of NaN values\n",
        "print(f'The number of samples: {len(data.index)}')              # print number of samples, features and feature names\n",
        "print(f'The number of features: {len(data.columns)}')\n",
        "\n",
        "# Check if the dataset is balanced\n",
        "malignant = (data['label'] == 'malignant').sum()\n",
        "print(f'The percentage of tumors that is malignant is {(malignant/len(data.index))*100}')\n",
        "\n",
        "# Check if the data is normally distributed\n",
        "Y = data['label']\n",
        "X = data.drop('label', axis=1)\n",
        "\n",
        "p_values = {}\n",
        "for key,values in X.items():\n",
        "\n",
        "  #perform Kolmogorov-Smirnov test on the values and store the p_values\n",
        "  _, p_value = kstest(values, 'norm')\n",
        "  # Store the p-value in the dictionary\n",
        "  p_values[key] = p_value\n",
        "\n",
        "# Print the p-values\n",
        "#for key, p_value in p_values.items():\n",
        "    #print(f\"{key}: {p_value}\")\n",
        "\n",
        "# If p<0.05 is not normally distributed, if p>0.05 it is normally distributed\n",
        "count_less_than_005 = sum(p_value < 0.05 for p_value in p_values.values())\n",
        "count_greater_than_005 = sum(p_value > 0.05 for p_value in p_values.values())\n",
        "\n",
        "print(f\"Amount of featuers not normally distributed: {count_less_than_005}\")\n",
        "print(f\"Amount of features normally distributed: {count_greater_than_005}\")\n",
        "\n"
      ],
      "metadata": {
        "colab": {
          "base_uri": "https://localhost:8080/"
        },
        "id": "o9Nw6L77SqNl",
        "outputId": "97e2a5e9-6449-45ae-a806-532b3ffd94d4"
      },
      "execution_count": 5,
      "outputs": [
        {
          "output_type": "stream",
          "name": "stdout",
          "text": [
            "Number of None types: 0\n",
            "Number of NaN values: 0\n",
            "The number of samples: 186\n",
            "The number of features: 494\n",
            "The percentage of tumors that is malignant is 50.53763440860215\n",
            "Amount of featuers not normally distributed: 493\n",
            "Amount of features normally distributed: 0\n"
          ]
        }
      ]
    },
    {
      "cell_type": "markdown",
      "source": [
        "## Splitting dataset in training set and test set\n"
      ],
      "metadata": {
        "id": "JWd5Fqele1q9"
      }
    },
    {
      "cell_type": "code",
      "source": [
        "Y = data['label']\n",
        "X = data.drop('label', axis=1)\n",
        "\n",
        "# Split the dataset in training and test part\n",
        "X_train, X_test, Y_train, Y_test = model_selection.train_test_split(X,Y,test_size=0.2,random_state=0,stratify=Y)\n",
        "# Check if this is executed correctly\n",
        "print(\"Amount samples in X_train (X_train):\", X_train.shape[0])\n",
        "print(\"Amount samples in X_test  (X_test):\", X_test.shape[0])\n",
        "print(\"Amount samples in Y_train (Y_train):\", Y_train.shape[0])\n",
        "print(\"Amount samples in Y_test (Y_test):\", Y_test.shape[0])\n",
        "\n",
        "display(X_train.head())"
      ],
      "metadata": {
        "id": "4-yByjNBe6z2",
        "outputId": "d035ae99-b133-4884-be74-08717a15d2c6",
        "colab": {
          "base_uri": "https://localhost:8080/",
          "height": 443
        }
      },
      "execution_count": 6,
      "outputs": [
        {
          "output_type": "stream",
          "name": "stdout",
          "text": [
            "Amount samples in X_train (X_train): 148\n",
            "Amount samples in X_test  (X_test): 38\n",
            "Amount samples in Y_train (Y_train): 148\n",
            "Amount samples in Y_test (Y_test): 38\n"
          ]
        },
        {
          "output_type": "display_data",
          "data": {
            "text/plain": [
              "             PREDICT_original_sf_compactness_avg_2.5D  \\\n",
              "ID                                                      \n",
              "Liver-149_0                                  0.824583   \n",
              "Liver-132_0                                  0.801146   \n",
              "Liver-018_0                                  0.784347   \n",
              "Liver-135_0                                  0.762971   \n",
              "Liver-015_0                                  0.836579   \n",
              "\n",
              "             PREDICT_original_sf_compactness_std_2.5D  \\\n",
              "ID                                                      \n",
              "Liver-149_0                                  0.055989   \n",
              "Liver-132_0                                  0.092439   \n",
              "Liver-018_0                                  0.051682   \n",
              "Liver-135_0                                  0.071214   \n",
              "Liver-015_0                                  0.075738   \n",
              "\n",
              "             PREDICT_original_sf_rad_dist_avg_2.5D  \\\n",
              "ID                                                   \n",
              "Liver-149_0                              30.099345   \n",
              "Liver-132_0                              62.217271   \n",
              "Liver-018_0                              29.057589   \n",
              "Liver-135_0                              39.719594   \n",
              "Liver-015_0                              61.507831   \n",
              "\n",
              "             PREDICT_original_sf_rad_dist_std_2.5D  \\\n",
              "ID                                                   \n",
              "Liver-149_0                               4.415992   \n",
              "Liver-132_0                               5.375470   \n",
              "Liver-018_0                               5.423131   \n",
              "Liver-135_0                               6.220513   \n",
              "Liver-015_0                               7.303462   \n",
              "\n",
              "             PREDICT_original_sf_roughness_avg_2.5D  \\\n",
              "ID                                                    \n",
              "Liver-149_0                                3.661071   \n",
              "Liver-132_0                                6.822246   \n",
              "Liver-018_0                                8.776120   \n",
              "Liver-135_0                                8.349609   \n",
              "Liver-015_0                               11.104662   \n",
              "\n",
              "             PREDICT_original_sf_roughness_std_2.5D  \\\n",
              "ID                                                    \n",
              "Liver-149_0                                1.861613   \n",
              "Liver-132_0                                2.509137   \n",
              "Liver-018_0                                6.493751   \n",
              "Liver-135_0                                4.035151   \n",
              "Liver-015_0                                3.733124   \n",
              "\n",
              "             PREDICT_original_sf_convexity_avg_2.5D  \\\n",
              "ID                                                    \n",
              "Liver-149_0                                0.963279   \n",
              "Liver-132_0                                0.924549   \n",
              "Liver-018_0                                0.967914   \n",
              "Liver-135_0                                0.944998   \n",
              "Liver-015_0                                0.952526   \n",
              "\n",
              "             PREDICT_original_sf_convexity_std_2.5D  \\\n",
              "ID                                                    \n",
              "Liver-149_0                                0.022393   \n",
              "Liver-132_0                                0.049767   \n",
              "Liver-018_0                                0.015269   \n",
              "Liver-135_0                                0.031507   \n",
              "Liver-015_0                                0.027722   \n",
              "\n",
              "             PREDICT_original_sf_cvar_avg_2.5D  \\\n",
              "ID                                               \n",
              "Liver-149_0                           0.021571   \n",
              "Liver-132_0                           0.007751   \n",
              "Liver-018_0                           0.035515   \n",
              "Liver-135_0                           0.028765   \n",
              "Liver-015_0                           0.016664   \n",
              "\n",
              "             PREDICT_original_sf_cvar_std_2.5D  ...  \\\n",
              "ID                                              ...   \n",
              "Liver-149_0                           0.011780  ...   \n",
              "Liver-132_0                           0.002992  ...   \n",
              "Liver-018_0                           0.011933  ...   \n",
              "Liver-135_0                           0.017286  ...   \n",
              "Liver-015_0                           0.011443  ...   \n",
              "\n",
              "             PREDICT_original_phasef_phasesym_median_WL3_N5  \\\n",
              "ID                                                            \n",
              "Liver-149_0                                        0.000000   \n",
              "Liver-132_0                                        0.000000   \n",
              "Liver-018_0                                        0.015554   \n",
              "Liver-135_0                                        0.000000   \n",
              "Liver-015_0                                        0.000000   \n",
              "\n",
              "             PREDICT_original_phasef_phasesym_std_WL3_N5  \\\n",
              "ID                                                         \n",
              "Liver-149_0                                     0.104107   \n",
              "Liver-132_0                                     0.100082   \n",
              "Liver-018_0                                     0.152348   \n",
              "Liver-135_0                                     0.108344   \n",
              "Liver-015_0                                     0.078725   \n",
              "\n",
              "             PREDICT_original_phasef_phasesym_skewness_WL3_N5  \\\n",
              "ID                                                              \n",
              "Liver-149_0                                          2.756906   \n",
              "Liver-132_0                                          3.289330   \n",
              "Liver-018_0                                          1.301602   \n",
              "Liver-135_0                                          1.929157   \n",
              "Liver-015_0                                          3.747019   \n",
              "\n",
              "             PREDICT_original_phasef_phasesym_kurtosis_WL3_N5  \\\n",
              "ID                                                              \n",
              "Liver-149_0                                          8.453818   \n",
              "Liver-132_0                                         11.458823   \n",
              "Liver-018_0                                          0.810392   \n",
              "Liver-135_0                                          3.090863   \n",
              "Liver-015_0                                         15.215261   \n",
              "\n",
              "             PREDICT_original_phasef_phasesym_peak_WL3_N5  \\\n",
              "ID                                                          \n",
              "Liver-149_0                                           0.0   \n",
              "Liver-132_0                                           0.0   \n",
              "Liver-018_0                                           0.0   \n",
              "Liver-135_0                                           0.0   \n",
              "Liver-015_0                                           0.0   \n",
              "\n",
              "             PREDICT_original_phasef_phasesym_peak_position_WL3_N5  \\\n",
              "ID                                                                   \n",
              "Liver-149_0                                                  0       \n",
              "Liver-132_0                                                  0       \n",
              "Liver-018_0                                                  0       \n",
              "Liver-135_0                                                  0       \n",
              "Liver-015_0                                                  0       \n",
              "\n",
              "             PREDICT_original_phasef_phasesym_range_WL3_N5  \\\n",
              "ID                                                           \n",
              "Liver-149_0                                       0.409805   \n",
              "Liver-132_0                                       0.412003   \n",
              "Liver-018_0                                       0.526233   \n",
              "Liver-135_0                                       0.391573   \n",
              "Liver-015_0                                       0.332604   \n",
              "\n",
              "             PREDICT_original_phasef_phasesym_energy_WL3_N5  \\\n",
              "ID                                                            \n",
              "Liver-149_0                                      222.558113   \n",
              "Liver-132_0                                     2198.965478   \n",
              "Liver-018_0                                      678.343564   \n",
              "Liver-135_0                                     1168.726859   \n",
              "Liver-015_0                                     1306.631943   \n",
              "\n",
              "             PREDICT_original_phasef_phasesym_quartile_range_WL3_N5  \\\n",
              "ID                                                                    \n",
              "Liver-149_0                                           0.042636        \n",
              "Liver-132_0                                           0.000000        \n",
              "Liver-018_0                                           0.211135        \n",
              "Liver-135_0                                           0.088960        \n",
              "Liver-015_0                                           0.000000        \n",
              "\n",
              "             PREDICT_original_phasef_phasesym_entropy_WL3_N5  \n",
              "ID                                                            \n",
              "Liver-149_0                                        11.809102  \n",
              "Liver-132_0                                        14.737962  \n",
              "Liver-018_0                                        12.903202  \n",
              "Liver-135_0                                        14.316269  \n",
              "Liver-015_0                                        14.384808  \n",
              "\n",
              "[5 rows x 493 columns]"
            ],
            "text/html": [
              "\n",
              "  <div id=\"df-eda5fe31-ef75-42bf-8f3c-3f7748508407\" class=\"colab-df-container\">\n",
              "    <div>\n",
              "<style scoped>\n",
              "    .dataframe tbody tr th:only-of-type {\n",
              "        vertical-align: middle;\n",
              "    }\n",
              "\n",
              "    .dataframe tbody tr th {\n",
              "        vertical-align: top;\n",
              "    }\n",
              "\n",
              "    .dataframe thead th {\n",
              "        text-align: right;\n",
              "    }\n",
              "</style>\n",
              "<table border=\"1\" class=\"dataframe\">\n",
              "  <thead>\n",
              "    <tr style=\"text-align: right;\">\n",
              "      <th></th>\n",
              "      <th>PREDICT_original_sf_compactness_avg_2.5D</th>\n",
              "      <th>PREDICT_original_sf_compactness_std_2.5D</th>\n",
              "      <th>PREDICT_original_sf_rad_dist_avg_2.5D</th>\n",
              "      <th>PREDICT_original_sf_rad_dist_std_2.5D</th>\n",
              "      <th>PREDICT_original_sf_roughness_avg_2.5D</th>\n",
              "      <th>PREDICT_original_sf_roughness_std_2.5D</th>\n",
              "      <th>PREDICT_original_sf_convexity_avg_2.5D</th>\n",
              "      <th>PREDICT_original_sf_convexity_std_2.5D</th>\n",
              "      <th>PREDICT_original_sf_cvar_avg_2.5D</th>\n",
              "      <th>PREDICT_original_sf_cvar_std_2.5D</th>\n",
              "      <th>...</th>\n",
              "      <th>PREDICT_original_phasef_phasesym_median_WL3_N5</th>\n",
              "      <th>PREDICT_original_phasef_phasesym_std_WL3_N5</th>\n",
              "      <th>PREDICT_original_phasef_phasesym_skewness_WL3_N5</th>\n",
              "      <th>PREDICT_original_phasef_phasesym_kurtosis_WL3_N5</th>\n",
              "      <th>PREDICT_original_phasef_phasesym_peak_WL3_N5</th>\n",
              "      <th>PREDICT_original_phasef_phasesym_peak_position_WL3_N5</th>\n",
              "      <th>PREDICT_original_phasef_phasesym_range_WL3_N5</th>\n",
              "      <th>PREDICT_original_phasef_phasesym_energy_WL3_N5</th>\n",
              "      <th>PREDICT_original_phasef_phasesym_quartile_range_WL3_N5</th>\n",
              "      <th>PREDICT_original_phasef_phasesym_entropy_WL3_N5</th>\n",
              "    </tr>\n",
              "    <tr>\n",
              "      <th>ID</th>\n",
              "      <th></th>\n",
              "      <th></th>\n",
              "      <th></th>\n",
              "      <th></th>\n",
              "      <th></th>\n",
              "      <th></th>\n",
              "      <th></th>\n",
              "      <th></th>\n",
              "      <th></th>\n",
              "      <th></th>\n",
              "      <th></th>\n",
              "      <th></th>\n",
              "      <th></th>\n",
              "      <th></th>\n",
              "      <th></th>\n",
              "      <th></th>\n",
              "      <th></th>\n",
              "      <th></th>\n",
              "      <th></th>\n",
              "      <th></th>\n",
              "      <th></th>\n",
              "    </tr>\n",
              "  </thead>\n",
              "  <tbody>\n",
              "    <tr>\n",
              "      <th>Liver-149_0</th>\n",
              "      <td>0.824583</td>\n",
              "      <td>0.055989</td>\n",
              "      <td>30.099345</td>\n",
              "      <td>4.415992</td>\n",
              "      <td>3.661071</td>\n",
              "      <td>1.861613</td>\n",
              "      <td>0.963279</td>\n",
              "      <td>0.022393</td>\n",
              "      <td>0.021571</td>\n",
              "      <td>0.011780</td>\n",
              "      <td>...</td>\n",
              "      <td>0.000000</td>\n",
              "      <td>0.104107</td>\n",
              "      <td>2.756906</td>\n",
              "      <td>8.453818</td>\n",
              "      <td>0.0</td>\n",
              "      <td>0</td>\n",
              "      <td>0.409805</td>\n",
              "      <td>222.558113</td>\n",
              "      <td>0.042636</td>\n",
              "      <td>11.809102</td>\n",
              "    </tr>\n",
              "    <tr>\n",
              "      <th>Liver-132_0</th>\n",
              "      <td>0.801146</td>\n",
              "      <td>0.092439</td>\n",
              "      <td>62.217271</td>\n",
              "      <td>5.375470</td>\n",
              "      <td>6.822246</td>\n",
              "      <td>2.509137</td>\n",
              "      <td>0.924549</td>\n",
              "      <td>0.049767</td>\n",
              "      <td>0.007751</td>\n",
              "      <td>0.002992</td>\n",
              "      <td>...</td>\n",
              "      <td>0.000000</td>\n",
              "      <td>0.100082</td>\n",
              "      <td>3.289330</td>\n",
              "      <td>11.458823</td>\n",
              "      <td>0.0</td>\n",
              "      <td>0</td>\n",
              "      <td>0.412003</td>\n",
              "      <td>2198.965478</td>\n",
              "      <td>0.000000</td>\n",
              "      <td>14.737962</td>\n",
              "    </tr>\n",
              "    <tr>\n",
              "      <th>Liver-018_0</th>\n",
              "      <td>0.784347</td>\n",
              "      <td>0.051682</td>\n",
              "      <td>29.057589</td>\n",
              "      <td>5.423131</td>\n",
              "      <td>8.776120</td>\n",
              "      <td>6.493751</td>\n",
              "      <td>0.967914</td>\n",
              "      <td>0.015269</td>\n",
              "      <td>0.035515</td>\n",
              "      <td>0.011933</td>\n",
              "      <td>...</td>\n",
              "      <td>0.015554</td>\n",
              "      <td>0.152348</td>\n",
              "      <td>1.301602</td>\n",
              "      <td>0.810392</td>\n",
              "      <td>0.0</td>\n",
              "      <td>0</td>\n",
              "      <td>0.526233</td>\n",
              "      <td>678.343564</td>\n",
              "      <td>0.211135</td>\n",
              "      <td>12.903202</td>\n",
              "    </tr>\n",
              "    <tr>\n",
              "      <th>Liver-135_0</th>\n",
              "      <td>0.762971</td>\n",
              "      <td>0.071214</td>\n",
              "      <td>39.719594</td>\n",
              "      <td>6.220513</td>\n",
              "      <td>8.349609</td>\n",
              "      <td>4.035151</td>\n",
              "      <td>0.944998</td>\n",
              "      <td>0.031507</td>\n",
              "      <td>0.028765</td>\n",
              "      <td>0.017286</td>\n",
              "      <td>...</td>\n",
              "      <td>0.000000</td>\n",
              "      <td>0.108344</td>\n",
              "      <td>1.929157</td>\n",
              "      <td>3.090863</td>\n",
              "      <td>0.0</td>\n",
              "      <td>0</td>\n",
              "      <td>0.391573</td>\n",
              "      <td>1168.726859</td>\n",
              "      <td>0.088960</td>\n",
              "      <td>14.316269</td>\n",
              "    </tr>\n",
              "    <tr>\n",
              "      <th>Liver-015_0</th>\n",
              "      <td>0.836579</td>\n",
              "      <td>0.075738</td>\n",
              "      <td>61.507831</td>\n",
              "      <td>7.303462</td>\n",
              "      <td>11.104662</td>\n",
              "      <td>3.733124</td>\n",
              "      <td>0.952526</td>\n",
              "      <td>0.027722</td>\n",
              "      <td>0.016664</td>\n",
              "      <td>0.011443</td>\n",
              "      <td>...</td>\n",
              "      <td>0.000000</td>\n",
              "      <td>0.078725</td>\n",
              "      <td>3.747019</td>\n",
              "      <td>15.215261</td>\n",
              "      <td>0.0</td>\n",
              "      <td>0</td>\n",
              "      <td>0.332604</td>\n",
              "      <td>1306.631943</td>\n",
              "      <td>0.000000</td>\n",
              "      <td>14.384808</td>\n",
              "    </tr>\n",
              "  </tbody>\n",
              "</table>\n",
              "<p>5 rows × 493 columns</p>\n",
              "</div>\n",
              "    <div class=\"colab-df-buttons\">\n",
              "\n",
              "  <div class=\"colab-df-container\">\n",
              "    <button class=\"colab-df-convert\" onclick=\"convertToInteractive('df-eda5fe31-ef75-42bf-8f3c-3f7748508407')\"\n",
              "            title=\"Convert this dataframe to an interactive table.\"\n",
              "            style=\"display:none;\">\n",
              "\n",
              "  <svg xmlns=\"http://www.w3.org/2000/svg\" height=\"24px\" viewBox=\"0 -960 960 960\">\n",
              "    <path d=\"M120-120v-720h720v720H120Zm60-500h600v-160H180v160Zm220 220h160v-160H400v160Zm0 220h160v-160H400v160ZM180-400h160v-160H180v160Zm440 0h160v-160H620v160ZM180-180h160v-160H180v160Zm440 0h160v-160H620v160Z\"/>\n",
              "  </svg>\n",
              "    </button>\n",
              "\n",
              "  <style>\n",
              "    .colab-df-container {\n",
              "      display:flex;\n",
              "      gap: 12px;\n",
              "    }\n",
              "\n",
              "    .colab-df-convert {\n",
              "      background-color: #E8F0FE;\n",
              "      border: none;\n",
              "      border-radius: 50%;\n",
              "      cursor: pointer;\n",
              "      display: none;\n",
              "      fill: #1967D2;\n",
              "      height: 32px;\n",
              "      padding: 0 0 0 0;\n",
              "      width: 32px;\n",
              "    }\n",
              "\n",
              "    .colab-df-convert:hover {\n",
              "      background-color: #E2EBFA;\n",
              "      box-shadow: 0px 1px 2px rgba(60, 64, 67, 0.3), 0px 1px 3px 1px rgba(60, 64, 67, 0.15);\n",
              "      fill: #174EA6;\n",
              "    }\n",
              "\n",
              "    .colab-df-buttons div {\n",
              "      margin-bottom: 4px;\n",
              "    }\n",
              "\n",
              "    [theme=dark] .colab-df-convert {\n",
              "      background-color: #3B4455;\n",
              "      fill: #D2E3FC;\n",
              "    }\n",
              "\n",
              "    [theme=dark] .colab-df-convert:hover {\n",
              "      background-color: #434B5C;\n",
              "      box-shadow: 0px 1px 3px 1px rgba(0, 0, 0, 0.15);\n",
              "      filter: drop-shadow(0px 1px 2px rgba(0, 0, 0, 0.3));\n",
              "      fill: #FFFFFF;\n",
              "    }\n",
              "  </style>\n",
              "\n",
              "    <script>\n",
              "      const buttonEl =\n",
              "        document.querySelector('#df-eda5fe31-ef75-42bf-8f3c-3f7748508407 button.colab-df-convert');\n",
              "      buttonEl.style.display =\n",
              "        google.colab.kernel.accessAllowed ? 'block' : 'none';\n",
              "\n",
              "      async function convertToInteractive(key) {\n",
              "        const element = document.querySelector('#df-eda5fe31-ef75-42bf-8f3c-3f7748508407');\n",
              "        const dataTable =\n",
              "          await google.colab.kernel.invokeFunction('convertToInteractive',\n",
              "                                                    [key], {});\n",
              "        if (!dataTable) return;\n",
              "\n",
              "        const docLinkHtml = 'Like what you see? Visit the ' +\n",
              "          '<a target=\"_blank\" href=https://colab.research.google.com/notebooks/data_table.ipynb>data table notebook</a>'\n",
              "          + ' to learn more about interactive tables.';\n",
              "        element.innerHTML = '';\n",
              "        dataTable['output_type'] = 'display_data';\n",
              "        await google.colab.output.renderOutput(dataTable, element);\n",
              "        const docLink = document.createElement('div');\n",
              "        docLink.innerHTML = docLinkHtml;\n",
              "        element.appendChild(docLink);\n",
              "      }\n",
              "    </script>\n",
              "  </div>\n",
              "\n",
              "\n",
              "<div id=\"df-50e71d3e-6caf-4c28-8ff0-7ecc3ed9099f\">\n",
              "  <button class=\"colab-df-quickchart\" onclick=\"quickchart('df-50e71d3e-6caf-4c28-8ff0-7ecc3ed9099f')\"\n",
              "            title=\"Suggest charts\"\n",
              "            style=\"display:none;\">\n",
              "\n",
              "<svg xmlns=\"http://www.w3.org/2000/svg\" height=\"24px\"viewBox=\"0 0 24 24\"\n",
              "     width=\"24px\">\n",
              "    <g>\n",
              "        <path d=\"M19 3H5c-1.1 0-2 .9-2 2v14c0 1.1.9 2 2 2h14c1.1 0 2-.9 2-2V5c0-1.1-.9-2-2-2zM9 17H7v-7h2v7zm4 0h-2V7h2v10zm4 0h-2v-4h2v4z\"/>\n",
              "    </g>\n",
              "</svg>\n",
              "  </button>\n",
              "\n",
              "<style>\n",
              "  .colab-df-quickchart {\n",
              "      --bg-color: #E8F0FE;\n",
              "      --fill-color: #1967D2;\n",
              "      --hover-bg-color: #E2EBFA;\n",
              "      --hover-fill-color: #174EA6;\n",
              "      --disabled-fill-color: #AAA;\n",
              "      --disabled-bg-color: #DDD;\n",
              "  }\n",
              "\n",
              "  [theme=dark] .colab-df-quickchart {\n",
              "      --bg-color: #3B4455;\n",
              "      --fill-color: #D2E3FC;\n",
              "      --hover-bg-color: #434B5C;\n",
              "      --hover-fill-color: #FFFFFF;\n",
              "      --disabled-bg-color: #3B4455;\n",
              "      --disabled-fill-color: #666;\n",
              "  }\n",
              "\n",
              "  .colab-df-quickchart {\n",
              "    background-color: var(--bg-color);\n",
              "    border: none;\n",
              "    border-radius: 50%;\n",
              "    cursor: pointer;\n",
              "    display: none;\n",
              "    fill: var(--fill-color);\n",
              "    height: 32px;\n",
              "    padding: 0;\n",
              "    width: 32px;\n",
              "  }\n",
              "\n",
              "  .colab-df-quickchart:hover {\n",
              "    background-color: var(--hover-bg-color);\n",
              "    box-shadow: 0 1px 2px rgba(60, 64, 67, 0.3), 0 1px 3px 1px rgba(60, 64, 67, 0.15);\n",
              "    fill: var(--button-hover-fill-color);\n",
              "  }\n",
              "\n",
              "  .colab-df-quickchart-complete:disabled,\n",
              "  .colab-df-quickchart-complete:disabled:hover {\n",
              "    background-color: var(--disabled-bg-color);\n",
              "    fill: var(--disabled-fill-color);\n",
              "    box-shadow: none;\n",
              "  }\n",
              "\n",
              "  .colab-df-spinner {\n",
              "    border: 2px solid var(--fill-color);\n",
              "    border-color: transparent;\n",
              "    border-bottom-color: var(--fill-color);\n",
              "    animation:\n",
              "      spin 1s steps(1) infinite;\n",
              "  }\n",
              "\n",
              "  @keyframes spin {\n",
              "    0% {\n",
              "      border-color: transparent;\n",
              "      border-bottom-color: var(--fill-color);\n",
              "      border-left-color: var(--fill-color);\n",
              "    }\n",
              "    20% {\n",
              "      border-color: transparent;\n",
              "      border-left-color: var(--fill-color);\n",
              "      border-top-color: var(--fill-color);\n",
              "    }\n",
              "    30% {\n",
              "      border-color: transparent;\n",
              "      border-left-color: var(--fill-color);\n",
              "      border-top-color: var(--fill-color);\n",
              "      border-right-color: var(--fill-color);\n",
              "    }\n",
              "    40% {\n",
              "      border-color: transparent;\n",
              "      border-right-color: var(--fill-color);\n",
              "      border-top-color: var(--fill-color);\n",
              "    }\n",
              "    60% {\n",
              "      border-color: transparent;\n",
              "      border-right-color: var(--fill-color);\n",
              "    }\n",
              "    80% {\n",
              "      border-color: transparent;\n",
              "      border-right-color: var(--fill-color);\n",
              "      border-bottom-color: var(--fill-color);\n",
              "    }\n",
              "    90% {\n",
              "      border-color: transparent;\n",
              "      border-bottom-color: var(--fill-color);\n",
              "    }\n",
              "  }\n",
              "</style>\n",
              "\n",
              "  <script>\n",
              "    async function quickchart(key) {\n",
              "      const quickchartButtonEl =\n",
              "        document.querySelector('#' + key + ' button');\n",
              "      quickchartButtonEl.disabled = true;  // To prevent multiple clicks.\n",
              "      quickchartButtonEl.classList.add('colab-df-spinner');\n",
              "      try {\n",
              "        const charts = await google.colab.kernel.invokeFunction(\n",
              "            'suggestCharts', [key], {});\n",
              "      } catch (error) {\n",
              "        console.error('Error during call to suggestCharts:', error);\n",
              "      }\n",
              "      quickchartButtonEl.classList.remove('colab-df-spinner');\n",
              "      quickchartButtonEl.classList.add('colab-df-quickchart-complete');\n",
              "    }\n",
              "    (() => {\n",
              "      let quickchartButtonEl =\n",
              "        document.querySelector('#df-50e71d3e-6caf-4c28-8ff0-7ecc3ed9099f button');\n",
              "      quickchartButtonEl.style.display =\n",
              "        google.colab.kernel.accessAllowed ? 'block' : 'none';\n",
              "    })();\n",
              "  </script>\n",
              "</div>\n",
              "    </div>\n",
              "  </div>\n"
            ],
            "application/vnd.google.colaboratory.intrinsic+json": {
              "type": "dataframe"
            }
          },
          "metadata": {}
        }
      ]
    },
    {
      "cell_type": "markdown",
      "source": [
        "## Preprocessing"
      ],
      "metadata": {
        "id": "e8NqRgEddbnT"
      }
    },
    {
      "cell_type": "markdown",
      "source": [
        "### Outliers"
      ],
      "metadata": {
        "id": "igd4OoB4iPBZ"
      }
    },
    {
      "cell_type": "code",
      "source": [
        "# Checking on outliers using interquartile range\n",
        "def define_outliers(feature):\n",
        "  sorted_feature = np.sort(feature)\n",
        "  Q1 = np.percentile(feature, 25)\n",
        "  Q3 = np.percentile(feature, 75)\n",
        "  IQR = Q3 - Q1\n",
        "  lower_bound = Q1 - (1.5 * IQR)\n",
        "  upper_bound = Q3 + (1.5 * IQR)\n",
        "  outliers = feature[(feature < lower_bound) | (feature > upper_bound)]\n",
        "  outliers_total_column = (feature < lower_bound).sum() + (feature > upper_bound).sum()\n",
        "  return outliers, outliers_total_column, lower_bound, upper_bound\n",
        "\n",
        "# Performing the above functions on the train set\n",
        "outliers_total = 0\n",
        "for column in X_train.columns:\n",
        "  outliers, outliers_total_column,_,_ = define_outliers(X_train[column])\n",
        "  outliers_total += outliers_total_column\n",
        "  #print(f'There are {outliers_total_column} outliers in {column}')\n",
        "  #print(f'Outliers in column {column}: {outliers.tolist()}')\n",
        "print(f'In total there are {outliers_total} outliers')\n"
      ],
      "metadata": {
        "id": "VWkLPj38shv-",
        "outputId": "4001c04a-6fcd-4d1d-dc0e-6f21efe3d1d9",
        "colab": {
          "base_uri": "https://localhost:8080/"
        }
      },
      "execution_count": 12,
      "outputs": [
        {
          "output_type": "stream",
          "name": "stdout",
          "text": [
            "In total there are 3061 outliers\n"
          ]
        }
      ]
    },
    {
      "cell_type": "code",
      "source": [
        "# Checking on outliers using range between 5 and 95%\n",
        "# Ik snap niet waarom het nu meer outliers zijn ipv minder? Alicia\n",
        "def define_outliers(feature):\n",
        "  sorted_feature = np.sort(feature)\n",
        "  lower_bound = np.percentile(feature, 5)\n",
        "  upper_bound = np.percentile(feature, 95)\n",
        "  outliers = feature[(feature < lower_bound) | (feature > upper_bound)]\n",
        "  outliers_total_column = (feature < lower_bound).sum() + (feature > upper_bound).sum()\n",
        "  return outliers, outliers_total_column, lower_bound, upper_bound\n",
        "\n",
        "  # Performing the above functions on the train set\n",
        "outliers_total = 0\n",
        "for column in X_train.columns:\n",
        "  outliers, outliers_total_column,_,_ = define_outliers(X_train[column])\n",
        "  outliers_total += outliers_total_column\n",
        "  #print(f'There are {outliers_total_column} outliers in {column}')\n",
        "  #print(f'Outliers in column {column}: {outliers.tolist()}')\n",
        "print(f'In total there are {outliers_total} outliers')"
      ],
      "metadata": {
        "colab": {
          "base_uri": "https://localhost:8080/"
        },
        "id": "9MJom2fKJFKe",
        "outputId": "f1a051fd-5d21-4178-e07d-8a2179d5f8be"
      },
      "execution_count": 13,
      "outputs": [
        {
          "output_type": "stream",
          "name": "stdout",
          "text": [
            "In total there are 7258 outliers\n"
          ]
        }
      ]
    },
    {
      "cell_type": "markdown",
      "source": [
        "### RobustScaling\n",
        "\n"
      ],
      "metadata": {
        "id": "q5_f-8Fjh-KB"
      }
    },
    {
      "cell_type": "code",
      "source": [
        "scaler = RobustScaler(quantile_range=(0.1, 0.9)).fit(X_train) # first and last 10% of samples are seen as outliers\n",
        "scaler.fit(X_train)\n",
        "X_train_scaled = scaler.transform(X_train)\n",
        "X_train_scaled = pd.DataFrame(data=X_train_scaled, columns=X_train.columns)\n",
        "display(X_train)"
      ],
      "metadata": {
        "id": "80-JybOTs6kK"
      },
      "execution_count": 16,
      "outputs": []
    },
    {
      "cell_type": "markdown",
      "source": [
        "### Remove zero variance and ANOVA test"
      ],
      "metadata": {
        "id": "trXf6IyGIR3v"
      }
    },
    {
      "cell_type": "code",
      "source": [
        "# Remove features with zero variance\n",
        "vt = VarianceThreshold(threshold=0)\n",
        "X_train_var = vt.fit_transform(X_train_scaled)\n",
        "print(f'The data shape before removing zero variance: {X_train_scaled.shape} and after: {X_train_var.shape}')\n",
        "\n",
        "# ANOVA feature selection for numeric input and categorical output\n",
        "# define feature selection\n",
        "fs = SelectKBest(score_func=f_classif, k='all')\n",
        "# apply feature selection\n",
        "X_train_anova = fs.fit_transform(X_train_var, Y_train)\n",
        "print(f'The data shape before ANOVA: {X_train_var.shape} and after ANOVA: {X_train_anova.shape}')\n",
        "\n",
        "# Turn results back into a DataFrame\n",
        "X_train = pd.DataFrame(X_train_anova)"
      ],
      "metadata": {
        "colab": {
          "base_uri": "https://localhost:8080/"
        },
        "id": "UQgpkaWzIEVu",
        "outputId": "5edfbe52-2aec-41cd-f0c4-c5cde0c4238e"
      },
      "execution_count": 21,
      "outputs": [
        {
          "output_type": "stream",
          "name": "stdout",
          "text": [
            "The data shape before removing zero variance: (148, 493) and after: (148, 476)\n",
            "The data shape before ANOVA: (148, 476) and after ANOVA: (148, 476)\n"
          ]
        }
      ]
    },
    {
      "cell_type": "markdown",
      "source": [
        "### RFECV\n"
      ],
      "metadata": {
        "id": "zr0RGXg20kkg"
      }
    },
    {
      "cell_type": "code",
      "source": [
        "# Calculate optimal number of features\n",
        "rfecv = RFECV(\n",
        "    svm.SVC(kernel='linear'), cv=5, step=5, scoring='accuracy',\n",
        "    min_features_to_select=8  # minimum number of features to consider\n",
        ")\n",
        "\n",
        "# Fit on train set\n",
        "rfecv.fit(X_train, Y_train)\n",
        "\n",
        "print(rfecv)\n",
        "print(f\"Classes: {rfecv.classes_}\")\n",
        "print(f\"Features seen during fit: {rfecv.n_features_in_}\")\n",
        "print(f\"Optimal number of features: {rfecv.n_features_}\")\n",
        "\n",
        "# Plot number of features VS. cross-validation scores\n",
        "# Vreemd waarom bij n=41 juist de laagste cv-score is? Wat laat die figuur dan zien? Alicia\n",
        "plt.figure()\n",
        "plt.xlabel(\"Number of features selected\")\n",
        "plt.ylabel(\"Cross validation score (nb of correct classifications)\")\n",
        "plt.plot(range(1, len(rfecv.cv_results_['mean_test_score']) + 1), rfecv.cv_results_['mean_test_score'])\n",
        "plt.show()"
      ],
      "metadata": {
        "colab": {
          "base_uri": "https://localhost:8080/",
          "height": 518
        },
        "id": "lrAs-O0ESNuo",
        "outputId": "5abc0109-85bc-495a-cfdc-073a01e559dc"
      },
      "execution_count": 35,
      "outputs": [
        {
          "output_type": "stream",
          "name": "stdout",
          "text": [
            "RFECV(cv=10, estimator=SVC(kernel='linear'), scoring='accuracy', step=5)\n",
            "Classes: ['benign' 'malignant']\n",
            "Features seen during fit: 476\n",
            "Optimal number of features: 96\n"
          ]
        },
        {
          "output_type": "display_data",
          "data": {
            "text/plain": [
              "<Figure size 640x480 with 1 Axes>"
            ],
            "image/png": "[encoded data removed]"
          },
          "metadata": {}
        }
      ]
    },
    {
      "cell_type": "code",
      "source": [
        "## RBF kernel\n",
        "from sklearn.svm import SVC\n",
        "# Initialize SVM classifier with RBF kernel\n",
        "svm_rbf = SVC(kernel='rbf')\n",
        "\n",
        "\n",
        "# Calculate optimal number of features\n",
        "rfecv = RFECV(\n",
        "    svm.SVC(kernel='rbf'), cv=5, step=5, scoring='accuracy',\n",
        "    min_features_to_select=8  # minimum number of features to consider\n",
        ")\n",
        "\n",
        "# Fit on train set\n",
        "rfecv.fit(X_train, Y_train)\n",
        "\n",
        "print(rfecv)\n",
        "print(f\"Classes: {rfecv.classes_}\")\n",
        "print(f\"Features seen during fit: {rfecv.n_features_in_}\")\n",
        "print(f\"Optimal number of features: {rfecv.n_features_}\")\n",
        "\n",
        "# Plot number of features VS. cross-validation scores\n",
        "# Vreemd waarom bij n=41 juist de laagste cv-score is? Wat laat die figuur dan zien? Alicia\n",
        "plt.figure()\n",
        "plt.xlabel(\"Number of features selected\")\n",
        "plt.ylabel(\"Cross validation score (nb of correct classifications)\")\n",
        "plt.plot(range(1, len(rfecv.cv_results_['mean_test_score']) + 1), rfecv.cv_results_['mean_test_score'])\n",
        "plt.show()# Calculate optimal number of features\n",
        "rfecv = RFECV(\n",
        "    svm.SVC(kernel='rbf'), cv=5, step=5, scoring='accuracy',\n",
        "    min_features_to_select=8  # minimum number of features to consider\n",
        ")\n",
        "\n",
        "# Fit on train set\n",
        "rfecv.fit(X_train, Y_train)\n",
        "\n",
        "print(rfecv)\n",
        "print(f\"Classes: {rfecv.classes_}\")\n",
        "print(f\"Features seen during fit: {rfecv.n_features_in_}\")\n",
        "print(f\"Optimal number of features: {rfecv.n_features_}\")\n",
        "\n",
        "# Plot number of features VS. cross-validation scores\n",
        "# Vreemd waarom bij n=41 juist de laagste cv-score is? Wat laat die figuur dan zien? Alicia\n",
        "plt.figure()\n",
        "plt.xlabel(\"Number of features selected\")\n",
        "plt.ylabel(\"Cross validation score (nb of correct classifications)\")\n",
        "plt.plot(range(1, len(rfecv.cv_results_['mean_test_score']) + 1), rfecv.cv_results_['mean_test_score'])\n",
        "plt.show()"
      ],
      "metadata": {
        "colab": {
          "base_uri": "https://localhost:8080/",
          "height": 408
        },
        "id": "6YacTIq4T7Yx",
        "outputId": "e605d40c-308a-4ca5-dc75-287546849f55"
      },
      "execution_count": 38,
      "outputs": [
        {
          "output_type": "error",
          "ename": "ValueError",
          "evalue": "when `importance_getter=='auto'`, the underlying estimator SVC should have `coef_` or `feature_importances_` attribute. Either pass a fitted estimator to feature selector or call fit before calling transform.",
          "traceback": [
            "\u001b[0;31m---------------------------------------------------------------------------\u001b[0m",
            "\u001b[0;31mValueError\u001b[0m                                Traceback (most recent call last)",
            "\u001b[0;32m<ipython-input-38-365659e52268>\u001b[0m in \u001b[0;36m<cell line: 14>\u001b[0;34m()\u001b[0m\n\u001b[1;32m     12\u001b[0m \u001b[0;34m\u001b[0m\u001b[0m\n\u001b[1;32m     13\u001b[0m \u001b[0;31m# Fit on train set\u001b[0m\u001b[0;34m\u001b[0m\u001b[0;34m\u001b[0m\u001b[0m\n\u001b[0;32m---> 14\u001b[0;31m \u001b[0mrfecv\u001b[0m\u001b[0;34m.\u001b[0m\u001b[0mfit\u001b[0m\u001b[0;34m(\u001b[0m\u001b[0mX_train\u001b[0m\u001b[0;34m,\u001b[0m \u001b[0mY_train\u001b[0m\u001b[0;34m)\u001b[0m\u001b[0;34m\u001b[0m\u001b[0;34m\u001b[0m\u001b[0m\n\u001b[0m\u001b[1;32m     15\u001b[0m \u001b[0;34m\u001b[0m\u001b[0m\n\u001b[1;32m     16\u001b[0m \u001b[0mprint\u001b[0m\u001b[0;34m(\u001b[0m\u001b[0mrfecv\u001b[0m\u001b[0;34m)\u001b[0m\u001b[0;34m\u001b[0m\u001b[0;34m\u001b[0m\u001b[0m\n",
            "\u001b[0;32m/usr/local/lib/python3.10/dist-packages/sklearn/feature_selection/_rfe.py\u001b[0m in \u001b[0;36mfit\u001b[0;34m(self, X, y, groups)\u001b[0m\n\u001b[1;32m    723\u001b[0m             \u001b[0mfunc\u001b[0m \u001b[0;34m=\u001b[0m \u001b[0mdelayed\u001b[0m\u001b[0;34m(\u001b[0m\u001b[0m_rfe_single_fit\u001b[0m\u001b[0;34m)\u001b[0m\u001b[0;34m\u001b[0m\u001b[0;34m\u001b[0m\u001b[0m\n\u001b[1;32m    724\u001b[0m \u001b[0;34m\u001b[0m\u001b[0m\n\u001b[0;32m--> 725\u001b[0;31m         scores = parallel(\n\u001b[0m\u001b[1;32m    726\u001b[0m             \u001b[0mfunc\u001b[0m\u001b[0;34m(\u001b[0m\u001b[0mrfe\u001b[0m\u001b[0;34m,\u001b[0m \u001b[0mself\u001b[0m\u001b[0;34m.\u001b[0m\u001b[0mestimator\u001b[0m\u001b[0;34m,\u001b[0m \u001b[0mX\u001b[0m\u001b[0;34m,\u001b[0m \u001b[0my\u001b[0m\u001b[0;34m,\u001b[0m \u001b[0mtrain\u001b[0m\u001b[0;34m,\u001b[0m \u001b[0mtest\u001b[0m\u001b[0;34m,\u001b[0m \u001b[0mscorer\u001b[0m\u001b[0;34m)\u001b[0m\u001b[0;34m\u001b[0m\u001b[0;34m\u001b[0m\u001b[0m\n\u001b[1;32m    727\u001b[0m             \u001b[0;32mfor\u001b[0m \u001b[0mtrain\u001b[0m\u001b[0;34m,\u001b[0m \u001b[0mtest\u001b[0m \u001b[0;32min\u001b[0m \u001b[0mcv\u001b[0m\u001b[0;34m.\u001b[0m\u001b[0msplit\u001b[0m\u001b[0;34m(\u001b[0m\u001b[0mX\u001b[0m\u001b[0;34m,\u001b[0m \u001b[0my\u001b[0m\u001b[0;34m,\u001b[0m \u001b[0mgroups\u001b[0m\u001b[0;34m)\u001b[0m\u001b[0;34m\u001b[0m\u001b[0;34m\u001b[0m\u001b[0m\n",
            "\u001b[0;32m/usr/local/lib/python3.10/dist-packages/sklearn/feature_selection/_rfe.py\u001b[0m in \u001b[0;36m<genexpr>\u001b[0;34m(.0)\u001b[0m\n\u001b[1;32m    724\u001b[0m \u001b[0;34m\u001b[0m\u001b[0m\n\u001b[1;32m    725\u001b[0m         scores = parallel(\n\u001b[0;32m--> 726\u001b[0;31m             \u001b[0mfunc\u001b[0m\u001b[0;34m(\u001b[0m\u001b[0mrfe\u001b[0m\u001b[0;34m,\u001b[0m \u001b[0mself\u001b[0m\u001b[0;34m.\u001b[0m\u001b[0mestimator\u001b[0m\u001b[0;34m,\u001b[0m \u001b[0mX\u001b[0m\u001b[0;34m,\u001b[0m \u001b[0my\u001b[0m\u001b[0;34m,\u001b[0m \u001b[0mtrain\u001b[0m\u001b[0;34m,\u001b[0m \u001b[0mtest\u001b[0m\u001b[0;34m,\u001b[0m \u001b[0mscorer\u001b[0m\u001b[0;34m)\u001b[0m\u001b[0;34m\u001b[0m\u001b[0;34m\u001b[0m\u001b[0m\n\u001b[0m\u001b[1;32m    727\u001b[0m             \u001b[0;32mfor\u001b[0m \u001b[0mtrain\u001b[0m\u001b[0;34m,\u001b[0m \u001b[0mtest\u001b[0m \u001b[0;32min\u001b[0m \u001b[0mcv\u001b[0m\u001b[0;34m.\u001b[0m\u001b[0msplit\u001b[0m\u001b[0;34m(\u001b[0m\u001b[0mX\u001b[0m\u001b[0;34m,\u001b[0m \u001b[0my\u001b[0m\u001b[0;34m,\u001b[0m \u001b[0mgroups\u001b[0m\u001b[0;34m)\u001b[0m\u001b[0;34m\u001b[0m\u001b[0;34m\u001b[0m\u001b[0m\n\u001b[1;32m    728\u001b[0m         )\n",
            "\u001b[0;32m/usr/local/lib/python3.10/dist-packages/sklearn/feature_selection/_rfe.py\u001b[0m in \u001b[0;36m_rfe_single_fit\u001b[0;34m(rfe, estimator, X, y, train, test, scorer)\u001b[0m\n\u001b[1;32m     35\u001b[0m     \u001b[0mX_train\u001b[0m\u001b[0;34m,\u001b[0m \u001b[0my_train\u001b[0m \u001b[0;34m=\u001b[0m \u001b[0m_safe_split\u001b[0m\u001b[0;34m(\u001b[0m\u001b[0mestimator\u001b[0m\u001b[0;34m,\u001b[0m \u001b[0mX\u001b[0m\u001b[0;34m,\u001b[0m \u001b[0my\u001b[0m\u001b[0;34m,\u001b[0m \u001b[0mtrain\u001b[0m\u001b[0;34m)\u001b[0m\u001b[0;34m\u001b[0m\u001b[0;34m\u001b[0m\u001b[0m\n\u001b[1;32m     36\u001b[0m     \u001b[0mX_test\u001b[0m\u001b[0;34m,\u001b[0m \u001b[0my_test\u001b[0m \u001b[0;34m=\u001b[0m \u001b[0m_safe_split\u001b[0m\u001b[0;34m(\u001b[0m\u001b[0mestimator\u001b[0m\u001b[0;34m,\u001b[0m \u001b[0mX\u001b[0m\u001b[0;34m,\u001b[0m \u001b[0my\u001b[0m\u001b[0;34m,\u001b[0m \u001b[0mtest\u001b[0m\u001b[0;34m,\u001b[0m \u001b[0mtrain\u001b[0m\u001b[0;34m)\u001b[0m\u001b[0;34m\u001b[0m\u001b[0;34m\u001b[0m\u001b[0m\n\u001b[0;32m---> 37\u001b[0;31m     return rfe._fit(\n\u001b[0m\u001b[1;32m     38\u001b[0m         \u001b[0mX_train\u001b[0m\u001b[0;34m,\u001b[0m\u001b[0;34m\u001b[0m\u001b[0;34m\u001b[0m\u001b[0m\n\u001b[1;32m     39\u001b[0m         \u001b[0my_train\u001b[0m\u001b[0;34m,\u001b[0m\u001b[0;34m\u001b[0m\u001b[0;34m\u001b[0m\u001b[0m\n",
            "\u001b[0;32m/usr/local/lib/python3.10/dist-packages/sklearn/feature_selection/_rfe.py\u001b[0m in \u001b[0;36m_fit\u001b[0;34m(self, X, y, step_score, **fit_params)\u001b[0m\n\u001b[1;32m    300\u001b[0m \u001b[0;34m\u001b[0m\u001b[0m\n\u001b[1;32m    301\u001b[0m             \u001b[0;31m# Get importance and rank them\u001b[0m\u001b[0;34m\u001b[0m\u001b[0;34m\u001b[0m\u001b[0m\n\u001b[0;32m--> 302\u001b[0;31m             importances = _get_feature_importances(\n\u001b[0m\u001b[1;32m    303\u001b[0m                 \u001b[0mestimator\u001b[0m\u001b[0;34m,\u001b[0m\u001b[0;34m\u001b[0m\u001b[0;34m\u001b[0m\u001b[0m\n\u001b[1;32m    304\u001b[0m                 \u001b[0mself\u001b[0m\u001b[0;34m.\u001b[0m\u001b[0mimportance_getter\u001b[0m\u001b[0;34m,\u001b[0m\u001b[0;34m\u001b[0m\u001b[0;34m\u001b[0m\u001b[0m\n",
            "\u001b[0;32m/usr/local/lib/python3.10/dist-packages/sklearn/feature_selection/_base.py\u001b[0m in \u001b[0;36m_get_feature_importances\u001b[0;34m(estimator, getter, transform_func, norm_order)\u001b[0m\n\u001b[1;32m    206\u001b[0m                 \u001b[0mgetter\u001b[0m \u001b[0;34m=\u001b[0m \u001b[0mattrgetter\u001b[0m\u001b[0;34m(\u001b[0m\u001b[0;34m\"feature_importances_\"\u001b[0m\u001b[0;34m)\u001b[0m\u001b[0;34m\u001b[0m\u001b[0;34m\u001b[0m\u001b[0m\n\u001b[1;32m    207\u001b[0m             \u001b[0;32melse\u001b[0m\u001b[0;34m:\u001b[0m\u001b[0;34m\u001b[0m\u001b[0;34m\u001b[0m\u001b[0m\n\u001b[0;32m--> 208\u001b[0;31m                 raise ValueError(\n\u001b[0m\u001b[1;32m    209\u001b[0m                     \u001b[0;34m\"when `importance_getter=='auto'`, the underlying \"\u001b[0m\u001b[0;34m\u001b[0m\u001b[0;34m\u001b[0m\u001b[0m\n\u001b[1;32m    210\u001b[0m                     \u001b[0;34mf\"estimator {estimator.__class__.__name__} should have \"\u001b[0m\u001b[0;34m\u001b[0m\u001b[0;34m\u001b[0m\u001b[0m\n",
            "\u001b[0;31mValueError\u001b[0m: when `importance_getter=='auto'`, the underlying estimator SVC should have `coef_` or `feature_importances_` attribute. Either pass a fitted estimator to feature selector or call fit before calling transform."
          ]
        }
      ]
    },
    {
      "cell_type": "code",
      "source": [
        "## BENTHE\n",
        "# from sklearn.feature_selection import RFECV\n",
        "# from sklearn.linear_model import LogisticRegression\n",
        "# from sklearn.model_selection import StratifiedKFold\n",
        "\n",
        "# rfecv = RFECV(\n",
        "#     estimator=LogisticRegression(max_iter=2000), # defining the maximum number of iterations\n",
        "#     step=1,\n",
        "#     cv=StratifiedKFold(5),    # How many folds for cross-validation\n",
        "#     scoring=\"accuracy\",       # Parameter to depend feature selection\n",
        "#     min_features_to_select=1, # Minimum number of features to consider\n",
        "#     n_jobs=2,\n",
        "# )\n",
        "# rfecv.fit(X_train_var, Y_train)\n",
        "\n",
        "# # Plot number of features VS. cross-validation scores\n",
        "# plt.figure()\n",
        "# plt.xlabel(\"Number of features selected\")\n",
        "# plt.ylabel(\"Cross validation score (nb of correct classifications)\")\n",
        "# plt.plot(range(1, len(rfecv.cv_results_.grid_scores_) + 1), rfecv.cv_results_.grid_scores_)\n",
        "# plt.show()"
      ],
      "metadata": {
        "id": "9agOokjf8b6T"
      },
      "execution_count": 34,
      "outputs": []
    }
  ],
  "metadata": {
    "colab": {
      "provenance": [],
      "include_colab_link": true
    },
    "kernelspec": {
      "display_name": "Python 3",
      "language": "python",
      "name": "python3"
    },
    "language_info": {
      "codemirror_mode": {
        "name": "ipython",
        "version": 3
      },
      "file_extension": ".py",
      "mimetype": "text/x-python",
      "name": "python",
      "nbconvert_exporter": "python",
      "pygments_lexer": "ipython3",
      "version": "3.8.5"
    }
  },
  "nbformat": 4,
  "nbformat_minor": 0
}