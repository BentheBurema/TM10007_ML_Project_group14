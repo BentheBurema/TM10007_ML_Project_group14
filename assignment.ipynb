{
  "cells": [
    {
      "cell_type": "markdown",
      "metadata": {
        "id": "7SXpaKwwGe5x"
      },
      "source": [
        "# TM10007 Assignment Group 14 Dataset 2\n"
      ]
    },
    {
      "cell_type": "code",
      "execution_count": null,
      "metadata": {
        "colab": {
          "base_uri": "https://localhost:8080/"
        },
        "id": "CiDn2Sk-VWqE",
        "outputId": "cdc69350-23e4-4c23-e9b1-4273d891dfe6"
      },
      "outputs": [
        {
          "output_type": "stream",
          "name": "stdout",
          "text": [
            "  Preparing metadata (setup.py) ... \u001b[?25l\u001b[?25hdone\n",
            "\u001b[2K     \u001b[90m━━━━━━━━━━━━━━━━━━━━━━━━━━━━━━━━━━━━━━━━\u001b[0m \u001b[32m23.7/23.7 MB\u001b[0m \u001b[31m16.7 MB/s\u001b[0m eta \u001b[36m0:00:00\u001b[0m\n",
            "\u001b[2K     \u001b[90m━━━━━━━━━━━━━━━━━━━━━━━━━━━━━━━━━━━━━━━━\u001b[0m \u001b[32m823.6/823.6 kB\u001b[0m \u001b[31m59.9 MB/s\u001b[0m eta \u001b[36m0:00:00\u001b[0m\n",
            "\u001b[2K     \u001b[90m━━━━━━━━━━━━━━━━━━━━━━━━━━━━━━━━━━━━━━━━\u001b[0m \u001b[32m14.1/14.1 MB\u001b[0m \u001b[31m80.2 MB/s\u001b[0m eta \u001b[36m0:00:00\u001b[0m\n",
            "\u001b[2K     \u001b[90m━━━━━━━━━━━━━━━━━━━━━━━━━━━━━━━━━━━━━━━━\u001b[0m \u001b[32m731.7/731.7 MB\u001b[0m \u001b[31m2.2 MB/s\u001b[0m eta \u001b[36m0:00:00\u001b[0m\n",
            "\u001b[2K     \u001b[90m━━━━━━━━━━━━━━━━━━━━━━━━━━━━━━━━━━━━━━━━\u001b[0m \u001b[32m410.6/410.6 MB\u001b[0m \u001b[31m2.8 MB/s\u001b[0m eta \u001b[36m0:00:00\u001b[0m\n",
            "\u001b[2K     \u001b[90m━━━━━━━━━━━━━━━━━━━━━━━━━━━━━━━━━━━━━━━━\u001b[0m \u001b[32m121.6/121.6 MB\u001b[0m \u001b[31m8.2 MB/s\u001b[0m eta \u001b[36m0:00:00\u001b[0m\n",
            "\u001b[2K     \u001b[90m━━━━━━━━━━━━━━━━━━━━━━━━━━━━━━━━━━━━━━━━\u001b[0m \u001b[32m56.5/56.5 MB\u001b[0m \u001b[31m10.3 MB/s\u001b[0m eta \u001b[36m0:00:00\u001b[0m\n",
            "\u001b[2K     \u001b[90m━━━━━━━━━━━━━━━━━━━━━━━━━━━━━━━━━━━━━━━━\u001b[0m \u001b[32m124.2/124.2 MB\u001b[0m \u001b[31m8.2 MB/s\u001b[0m eta \u001b[36m0:00:00\u001b[0m\n",
            "\u001b[2K     \u001b[90m━━━━━━━━━━━━━━━━━━━━━━━━━━━━━━━━━━━━━━━━\u001b[0m \u001b[32m196.0/196.0 MB\u001b[0m \u001b[31m6.9 MB/s\u001b[0m eta \u001b[36m0:00:00\u001b[0m\n",
            "\u001b[2K     \u001b[90m━━━━━━━━━━━━━━━━━━━━━━━━━━━━━━━━━━━━━━━━\u001b[0m \u001b[32m166.0/166.0 MB\u001b[0m \u001b[31m4.4 MB/s\u001b[0m eta \u001b[36m0:00:00\u001b[0m\n",
            "\u001b[2K     \u001b[90m━━━━━━━━━━━━━━━━━━━━━━━━━━━━━━━━━━━━━━━━\u001b[0m \u001b[32m99.1/99.1 kB\u001b[0m \u001b[31m12.7 MB/s\u001b[0m eta \u001b[36m0:00:00\u001b[0m\n",
            "\u001b[2K     \u001b[90m━━━━━━━━━━━━━━━━━━━━━━━━━━━━━━━━━━━━━━━━\u001b[0m \u001b[32m21.1/21.1 MB\u001b[0m \u001b[31m70.2 MB/s\u001b[0m eta \u001b[36m0:00:00\u001b[0m\n",
            "\u001b[?25h  Building wheel for ktml (setup.py) ... \u001b[?25l\u001b[?25hdone\n"
          ]
        }
      ],
      "source": [
        "# Run this to use from colab environment\n",
        "!pip install -q --upgrade git+https://github.com/jveenland/tm10007_ml.git"
      ]
    },
    {
      "cell_type": "markdown",
      "metadata": {
        "id": "y2D2ap0-PTHT"
      },
      "source": [
        "## Data loading\n",
        "\n",
        "Below are functions to load the dataset of your choice. After that, it is all up to you to create and evaluate a classification method. Beware, there may be missing values in these datasets. Good luck!"
      ]
    },
    {
      "cell_type": "code",
      "execution_count": 21,
      "metadata": {
        "colab": {
          "base_uri": "https://localhost:8080/"
        },
        "id": "-NE_fTbKGe5z",
        "outputId": "36606ea6-26db-40ae-b4c4-55242725935b"
      },
      "outputs": [
        {
          "output_type": "stream",
          "name": "stdout",
          "text": [
            "The number of samples: 186\n",
            "The number of features: 494\n",
            "Feature names: Index(['label', 'PREDICT_original_sf_compactness_avg_2.5D',\n",
            "       'PREDICT_original_sf_compactness_std_2.5D',\n",
            "       'PREDICT_original_sf_rad_dist_avg_2.5D',\n",
            "       'PREDICT_original_sf_rad_dist_std_2.5D',\n",
            "       'PREDICT_original_sf_roughness_avg_2.5D',\n",
            "       'PREDICT_original_sf_roughness_std_2.5D',\n",
            "       'PREDICT_original_sf_convexity_avg_2.5D',\n",
            "       'PREDICT_original_sf_convexity_std_2.5D',\n",
            "       'PREDICT_original_sf_cvar_avg_2.5D',\n",
            "       ...\n",
            "       'PREDICT_original_phasef_phasesym_median_WL3_N5',\n",
            "       'PREDICT_original_phasef_phasesym_std_WL3_N5',\n",
            "       'PREDICT_original_phasef_phasesym_skewness_WL3_N5',\n",
            "       'PREDICT_original_phasef_phasesym_kurtosis_WL3_N5',\n",
            "       'PREDICT_original_phasef_phasesym_peak_WL3_N5',\n",
            "       'PREDICT_original_phasef_phasesym_peak_position_WL3_N5',\n",
            "       'PREDICT_original_phasef_phasesym_range_WL3_N5',\n",
            "       'PREDICT_original_phasef_phasesym_energy_WL3_N5',\n",
            "       'PREDICT_original_phasef_phasesym_quartile_range_WL3_N5',\n",
            "       'PREDICT_original_phasef_phasesym_entropy_WL3_N5'],\n",
            "      dtype='object', length=494)\n",
            "The percentage of tumors that is malignant is 50.53763440860215\n"
          ]
        }
      ],
      "source": [
        "# Data loading functions. Uncomment the one you want to use\n",
        "from worcliver.load_data import load_data\n",
        "\n",
        "data = load_data()\n",
        "print(f'The number of samples: {len(data.index)}')\n",
        "print(f'The number of features: {len(data.columns)}')\n",
        "print(f'Feature names: {data.columns}')\n",
        "\n",
        "# Inspecting the dataset\n",
        "malignant = (data['label'] == 'malignant').sum()\n",
        "print(f'The percentage of tumors that is malignant is {(malignant/len(data.index))*100}')"
      ]
    },
    {
      "cell_type": "markdown",
      "source": [
        "## Splitting dataset in training set and test set\n",
        "\n",
        "TEKST TOEVOEGEN"
      ],
      "metadata": {
        "id": "JWd5Fqele1q9"
      }
    },
    {
      "cell_type": "code",
      "source": [
        "# Split the dataset in training and test part\n"
      ],
      "metadata": {
        "id": "4-yByjNBe6z2"
      },
      "execution_count": null,
      "outputs": []
    },
    {
      "cell_type": "markdown",
      "source": [
        "## Preprocessing\n",
        "TEKST INSERTEN"
      ],
      "metadata": {
        "id": "e8NqRgEddbnT"
      }
    },
    {
      "cell_type": "markdown",
      "source": [
        "### Handling missing data"
      ],
      "metadata": {
        "id": "-zJVpcJ3dq5o"
      }
    },
    {
      "cell_type": "code",
      "execution_count": null,
      "metadata": {
        "id": "eyQmKJF7PTHU"
      },
      "outputs": [],
      "source": []
    }
  ],
  "metadata": {
    "colab": {
      "name": "assignment.ipynb",
      "provenance": []
    },
    "kernelspec": {
      "display_name": "Python 3",
      "language": "python",
      "name": "python3"
    },
    "language_info": {
      "codemirror_mode": {
        "name": "ipython",
        "version": 3
      },
      "file_extension": ".py",
      "mimetype": "text/x-python",
      "name": "python",
      "nbconvert_exporter": "python",
      "pygments_lexer": "ipython3",
      "version": "3.8.5"
    }
  },
  "nbformat": 4,
  "nbformat_minor": 0
}