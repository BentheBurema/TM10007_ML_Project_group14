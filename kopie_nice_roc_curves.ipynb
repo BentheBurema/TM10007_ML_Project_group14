{
  "cells": [
    {
      "cell_type": "markdown",
      "metadata": {
        "id": "view-in-github",
        "colab_type": "text"
      },
      "source": [
        "<a href=\"https://colab.research.google.com/github/BentheBurema/TM10007_ML_Project_group14/blob/main/kopie_nice_roc_curves.ipynb\" target=\"_parent\"><img src=\"https://colab.research.google.com/assets/colab-badge.svg\" alt=\"Open In Colab\"/></a>"
      ]
    },
    {
      "cell_type": "markdown",
      "metadata": {
        "id": "7SXpaKwwGe5x"
      },
      "source": [
        "# TM10007 Assignment Group 14 Dataset 2\n"
      ]
    },
    {
      "cell_type": "code",
      "execution_count": 2,
      "metadata": {
        "colab": {
          "base_uri": "https://localhost:8080/"
        },
        "id": "CiDn2Sk-VWqE",
        "outputId": "608baa6a-9e8e-4bd8-c013-96c04d87ce41"
      },
      "outputs": [
        {
          "output_type": "stream",
          "name": "stdout",
          "text": [
            "  Preparing metadata (setup.py) ... \u001b[?25l\u001b[?25hdone\n",
            "  Building wheel for ktml (setup.py) ... \u001b[?25l\u001b[?25hdone\n"
          ]
        }
      ],
      "source": [
        "# Run this to use from colab environment\n",
        "!pip install -q --upgrade git+https://github.com/jveenland/tm10007_ml.git"
      ]
    },
    {
      "cell_type": "markdown",
      "source": [
        "## Importing libraries"
      ],
      "metadata": {
        "id": "gVOV5PTqgx4n"
      }
    },
    {
      "cell_type": "code",
      "source": [
        "# Basic packages\n",
        "import numpy as np\n",
        "import pandas as pd\n",
        "import seaborn\n",
        "import matplotlib.pyplot as plt\n",
        "\n",
        "# Loading dataset\n",
        "from worcliver.load_data import load_data\n",
        "\n",
        "# Inspecting dataset\n",
        "from scipy.stats import kstest\n",
        "\n",
        "# Splitting dataset\n",
        "from sklearn import model_selection\n",
        "\n",
        "# Pre-processing\n",
        "from sklearn.preprocessing import RobustScaler, LabelEncoder\n",
        "from sklearn.datasets import make_classification\n",
        "from sklearn.feature_selection import SelectKBest, f_classif, VarianceThreshold, RFECV\n",
        "from sklearn.linear_model import LogisticRegression\n",
        "from sklearn.model_selection import StratifiedKFold, RandomizedSearchCV, train_test_split, cross_val_score\n",
        "from scipy.stats import linregress, uniform, skew, kurtosis, norm\n",
        "\n",
        "# Classifiers\n",
        "from sklearn.ensemble import RandomForestClassifier, VotingClassifier\n",
        "from sklearn import tree, metrics\n",
        "from sklearn.neighbors import KNeighborsClassifier\n",
        "from sklearn.svm import SVC\n",
        "from sklearn.model_selection import learning_curve\n",
        "from sklearn.metrics import make_scorer, fbeta_score, classification_report, auc, roc_curve, precision_recall_fscore_support, confusion_matrix, ConfusionMatrixDisplay, roc_auc_score\n",
        "from tabulate import tabulate\n"
      ],
      "metadata": {
        "id": "g9AZir9Zg1gp"
      },
      "execution_count": 2,
      "outputs": []
    },
    {
      "cell_type": "markdown",
      "source": [
        "## Inspecting data\n",
        "In this section the data is inspected by checking the number of samples and features. The balance and distribution of the data is also inspected. Finally the data is checked on None types and NaN values."
      ],
      "metadata": {
        "id": "Y9uvDygkgPbJ"
      }
    },
    {
      "cell_type": "code",
      "source": [
        "def inspecting_data(data):\n",
        "  '''\n",
        "  Function to inspect the dataset on number of samples and features. Furthermore\n",
        "  it checks if there are None types, NaN values and if the dataset is normally\n",
        "  distributed.\n",
        "\n",
        "  Input:\n",
        "    data: dataset you'd like to inspect\n",
        "  '''\n",
        "  # Inspecting the data\n",
        "  print(f'The number of samples: {len(data.index)}')              # print number of samples, features and feature names\n",
        "  print(f'The number of features: {len(data.columns)}')\n",
        "\n",
        "  # Check if the dataset is balanced\n",
        "  malignant = (data['label'] == 'malignant').sum()\n",
        "  print(f'The percentage of tumors that is malignant is {(malignant/len(data.index))*100}')\n",
        "\n",
        "  # Check if the data is normally distributed\n",
        "  Y = data['label']\n",
        "  X = data.drop('label', axis=1)\n",
        "\n",
        "  p_values = {}\n",
        "  for key,values in X.items():\n",
        "\n",
        "    #perform Kolmogorov-Smirnov test on the values and store the p_values\n",
        "    _, p_value = kstest(values, 'norm')\n",
        "    # Store the p-value in the dictionary\n",
        "    p_values[key] = p_value\n",
        "\n",
        "  # If p<0.05 the feature is not normally distributed, if p>0.05 the feature is normally distributed\n",
        "  count_less_than_005 = sum(p_value < 0.05 for p_value in p_values.values())\n",
        "  count_greater_than_005 = sum(p_value > 0.05 for p_value in p_values.values())\n",
        "\n",
        "  print(f\"Amount of featuers not normally distributed: {count_less_than_005}\")\n",
        "  print(f\"Amount of features normally distributed: {count_greater_than_005}\")\n",
        "\n",
        "  # Checking on None types and NaN values\n",
        "  print(f\"Number of None types: {data.isnull().sum().sum()}\")     # Count number of None types\n",
        "  print(f\"Number of NaN values: {data.isna().sum().sum()}\")       # Count number of NaN values\n",
        "  return None"
      ],
      "metadata": {
        "id": "o9Nw6L77SqNl"
      },
      "execution_count": 3,
      "outputs": []
    },
    {
      "cell_type": "markdown",
      "source": [
        "## Splitting dataset in training set and test set\n",
        "In this section the dataset is splitted in training and test set using 20% of the data as test set. This is performed so all the tuning can be performed on only the test set.\n"
      ],
      "metadata": {
        "id": "JWd5Fqele1q9"
      }
    },
    {
      "cell_type": "code",
      "source": [
        "def split(data):\n",
        "  '''\n",
        "  Function to split the dataset in a train en test set\n",
        "\n",
        "  Input:\n",
        "    data: dataset you'd like to split\n",
        "  Output:\n",
        "    x_train: a dataframe containing samples of the train set\n",
        "    x_test: a dataframe containing samples of the train set\n",
        "    y_train: labels of the train set\n",
        "    y_test: labels of the test set\n",
        "  '''\n",
        "  y = data['label']\n",
        "  x = data.drop('label', axis=1)\n",
        "\n",
        "  # Split the dataset in training and test part\n",
        "  x_train, x_test, y_train, y_test = model_selection.train_test_split(x,y,test_size=0.2,random_state=0,stratify=y)\n",
        "\n",
        "  # Check if this is executed correctly\n",
        "  print(\"Amount samples in X_train (X_train):\", x_train.shape[0])\n",
        "  print(\"Amount samples in X_test  (X_test):\", x_test.shape[0])\n",
        "  print(\"Amount samples in Y_train (Y_train):\", y_train.shape[0])\n",
        "  print(\"Amount samples in Y_test (Y_test):\", y_test.shape[0])\n",
        "\n",
        "  display(x_train.head())\n",
        "\n",
        "  # Transform datasets to dataframes\n",
        "  x_train = pd.DataFrame(x_train)\n",
        "  x_test = pd.DataFrame(x_test)\n",
        "  return x_train, x_test, y_train, y_test"
      ],
      "metadata": {
        "id": "4-yByjNBe6z2"
      },
      "execution_count": 43,
      "outputs": []
    },
    {
      "cell_type": "markdown",
      "source": [
        "## Preprocessing"
      ],
      "metadata": {
        "id": "e8NqRgEddbnT"
      }
    },
    {
      "cell_type": "markdown",
      "source": [
        "### Delete features with more than 50% zeros"
      ],
      "metadata": {
        "id": "DhPRt8PuxWdI"
      }
    },
    {
      "cell_type": "code",
      "source": [
        "def delete_zeros(X_dataset):\n",
        "  '''\n",
        "  Function to delete features with more than 50% zeros.\n",
        "\n",
        "  Input:\n",
        "    X_dataset: this can be the train or test set of samples\n",
        "  Output:\n",
        "    X_dataset: adjusted train or test set without features with more than\n",
        "    50% zeros\n",
        "  '''\n",
        "  for column in X_dataset.columns:\n",
        "    # Count amount of zeros in each column\n",
        "    num_zeros = X_dataset[column].isin([0]).sum()\n",
        "\n",
        "    # Calculate percentage of zeros in each column\n",
        "    percentage_zeros = (num_zeros / len(X_dataset.index)) * 100\n",
        "\n",
        "    # Check if there are more than 50% zeros in a column\n",
        "    if percentage_zeros > 50:\n",
        "        # Delete the column\n",
        "        X_dataset.drop(column, axis=1, inplace=True)\n",
        "\n",
        "  # Print the data shape before and after deleting features with >50% zeros\n",
        "  print(f'The data shape after deleting features with >50% zeros: {X_dataset.shape}')\n",
        "  return X_dataset\n",
        "\n",
        "def checking_zeros_after_deleting(X_dataset_deleted_zeros):\n",
        "  '''\n",
        "  Function to check how many zeros are still present in the dataset after\n",
        "  deleting features with more than 50% zeros.\n",
        "\n",
        "  Input:\n",
        "    X_dataset_deleted_zeros: adjusted train or test set without features with\n",
        "    more than 50% zeros\n",
        "  '''\n",
        "  total_num_zeros = 0\n",
        "  for column in X_dataset_deleted_zeros.columns:\n",
        "    num_zeros = X_dataset_deleted_zeros[column].isin([0]).sum()\n",
        "    total_num_zeros += num_zeros\n",
        "  print(f\"Total number of zeros in the dataset after deleting features with >50% zeros: {total_num_zeros}\")\n",
        "  return None"
      ],
      "metadata": {
        "id": "gEPJ5PMEvUzT"
      },
      "execution_count": 76,
      "outputs": []
    },
    {
      "cell_type": "markdown",
      "source": [
        "### Outliers\n",
        "In this section the data is checked on outliers. A value is called an outlier based on the interquartile range."
      ],
      "metadata": {
        "id": "igd4OoB4iPBZ"
      }
    },
    {
      "cell_type": "code",
      "source": [
        "def define_outliers(X_dataset):\n",
        "    '''\n",
        "    Function to determine the amount of outliers in the dataset.\n",
        "\n",
        "    Input:\n",
        "      X_dataset: adjusted train or test set without features with more than 50% zeros\n",
        "    Output:\n",
        "      outliers_total: total amount of outliers in the dataset\n",
        "    '''\n",
        "    outliers_total = 0\n",
        "    for column in X_dataset.columns:\n",
        "        sorted_feature = np.sort(X_dataset[column])  # Sort the values of the column\n",
        "        Q1 = np.percentile(sorted_feature, 25)\n",
        "        Q3 = np.percentile(sorted_feature, 75)\n",
        "        IQR = Q3 - Q1\n",
        "        lower_bound = Q1 - (1.5 * IQR)\n",
        "        upper_bound = Q3 + (1.5 * IQR)\n",
        "        outliers_total_column = ((sorted_feature < lower_bound) | (sorted_feature > upper_bound)).sum()\n",
        "        outliers_total += outliers_total_column\n",
        "    return outliers_total"
      ],
      "metadata": {
        "id": "VWkLPj38shv-"
      },
      "execution_count": 77,
      "outputs": []
    },
    {
      "cell_type": "markdown",
      "source": [
        "### RobustScaling\n",
        "In this section the dataset is robustly scaled because there are outliers and the features are not normally distributed.\n"
      ],
      "metadata": {
        "id": "q5_f-8Fjh-KB"
      }
    },
    {
      "cell_type": "code",
      "source": [
        "def scaling(X_dataset):\n",
        "  '''\n",
        "  Function to scale the dataset using a RobustScaler.\n",
        "\n",
        "  Input:\n",
        "    X_dataset: adjusted train or test set without features with more than 50% zeros\n",
        "  Output:\n",
        "    X_dataset_scaled: scaled train or test set\n",
        "  '''\n",
        "  scaler = RobustScaler(quantile_range=(0.1, 0.9)).fit(X_dataset) # first and last 10% of samples are seen as outliers\n",
        "  scaler.fit(X_dataset)\n",
        "  X_dataset_scaled = scaler.transform(X_dataset)\n",
        "  X_dataset_scaled = pd.DataFrame(data=X_dataset_scaled, columns=X_dataset.columns)\n",
        "  return X_dataset_scaled"
      ],
      "metadata": {
        "id": "80-JybOTs6kK"
      },
      "execution_count": 78,
      "outputs": []
    },
    {
      "cell_type": "markdown",
      "source": [
        "### Remove zero variance\n",
        "In this section features with zero variance are removed, because these are of no value in distinguishing between benign and malignant."
      ],
      "metadata": {
        "id": "ne1Vx0nM86ma"
      }
    },
    {
      "cell_type": "code",
      "source": [
        "def zero_variance(X_dataset_scaled):\n",
        "  '''\n",
        "  Function to delete features with zero variance.\n",
        "\n",
        "  Input:\n",
        "    X_dataset_scaled: scaled train set\n",
        "  Output:\n",
        "    X_dataset_var: scaled train set without features with zero variance\n",
        "  '''\n",
        "  # Remove features with zero variance\n",
        "  vt = VarianceThreshold(threshold=0.0)\n",
        "  X_dataset_var = vt.fit_transform(X_dataset_scaled)\n",
        "  # Select the right columns from X_dataset_scaled\n",
        "  selected_columns = X_dataset_scaled.columns[vt.get_support()]\n",
        "\n",
        "  # Create a dataframe for X_dataset_var with only the selected columns\n",
        "  X_dataset_var = pd.DataFrame(X_dataset_var, columns=selected_columns)\n",
        "  print(f'The data shape before removing zero variance: {X_dataset_scaled.shape} and after: {X_dataset_var.shape}')\n",
        "  return X_dataset_var"
      ],
      "metadata": {
        "id": "5O136Dth863U"
      },
      "execution_count": 79,
      "outputs": []
    },
    {
      "cell_type": "markdown",
      "source": [
        "### ANOVA test\n",
        "In this section the ANOVA test is performed on the dataset. Features are selected if there is a p-value smaller than 0.05."
      ],
      "metadata": {
        "id": "trXf6IyGIR3v"
      }
    },
    {
      "cell_type": "code",
      "source": [
        "def anova_analysis(X_dataset_var, Y_dataset):\n",
        "  '''\n",
        "  Function to perform ANOVA test. ANOVA feature selection for numeric input and\n",
        "  categorical output.\n",
        "\n",
        "  Input:\n",
        "    X_dataset_var: scaled train set without features with zero variance\n",
        "    Y_dataset: labels of the train set\n",
        "  Output:\n",
        "    X_dataset_anova: a dataframe of the train set with only the selected features\n",
        "    after ANOVA\n",
        "  '''\n",
        "  # Define feature selection\n",
        "  fs = SelectKBest(score_func=f_classif, k='all')\n",
        "\n",
        "  # Apply feature selection\n",
        "  X_dataset_anova = fs.fit_transform(X_dataset_var, Y_dataset)\n",
        "  X_dataset_anova = pd.DataFrame(data=X_dataset_anova, columns=X_dataset_var.columns)\n",
        "  feature_scores = list(zip(fs.pvalues_, X_dataset_anova.columns))\n",
        "\n",
        "  # Select the features with p<0.05, because only than benign is significantly different from malignant\n",
        "  selected_features = [feature[1] for feature in feature_scores if feature[0] < 0.05]\n",
        "\n",
        "  # Create a dataframe for X_dataset_anova with only the selected features\n",
        "  X_dataset_anova = X_dataset_anova[selected_features]\n",
        "  print(f'The data shape before ANOVA: {X_dataset_var.shape} and after ANOVA: {X_dataset_anova.shape}')\n",
        "  return X_dataset_anova"
      ],
      "metadata": {
        "id": "UQgpkaWzIEVu"
      },
      "execution_count": 80,
      "outputs": []
    },
    {
      "cell_type": "markdown",
      "source": [
        "### RFECV\n",
        "In this section the Recursive feature elimination with cross-validation is performed to select the final features. As a classifier a support vector with a linear kernel is used."
      ],
      "metadata": {
        "id": "bbUVSW7gSctt"
      }
    },
    {
      "cell_type": "code",
      "source": [
        "def function_calc_RFECV(X_dataset_anova, Y_dataset): # x_train_anova must be used as an argument here.\n",
        "    '''\n",
        "    Function to perform the final feature selection using RFECV.\n",
        "\n",
        "    Input:\n",
        "      X_dataset_anova: a dataframe of the train set with only the selected features\n",
        "      after ANOVA\n",
        "      Y_dataset: labels of the train set\n",
        "    Output:\n",
        "      X_rfecv: a dataframe of the train set with only the selected features\n",
        "      after RFECV\n",
        "      selected_column_names: names of the features which have been selected\n",
        "      by RFECV\n",
        "    '''\n",
        "    label_encoder = LabelEncoder()\n",
        "    Y_encoded = label_encoder.fit_transform(Y_dataset)\n",
        "\n",
        "    clf = SVC(kernel='linear',random_state=0)\n",
        "\n",
        "    min_features_to_select = 1\n",
        "    rfecv = RFECV(estimator=clf,\n",
        "                  step=5,\n",
        "                  cv=cv,\n",
        "                  scoring='roc_auc',\n",
        "                  min_features_to_select=min_features_to_select\n",
        "                  )\n",
        "    rfecv.fit(X_dataset_anova, Y_encoded)\n",
        "    print(f'Optimal number of features: {rfecv.n_features_}')\n",
        "\n",
        "    X_rfecv = rfecv.transform(X_dataset_anova)\n",
        "\n",
        "    # Get the selected feature indices\n",
        "    selected_features_indices = rfecv.get_support()\n",
        "\n",
        "    X_dataset_anova = pd.DataFrame(X_dataset_anova)\n",
        "\n",
        "    # Get the names of the selected features\n",
        "    selected_column_names = X_dataset_anova.columns[selected_features_indices]\n",
        "\n",
        "    print(f'The data shape before RFECV: {X_dataset_anova.shape} and after RFECV: {X_rfecv.shape}')\n",
        "    return X_rfecv, selected_column_names"
      ],
      "metadata": {
        "id": "pqSta6LsSeFj"
      },
      "execution_count": 81,
      "outputs": []
    },
    {
      "cell_type": "markdown",
      "source": [
        "## Classifiers"
      ],
      "metadata": {
        "id": "3neEix3elSIk"
      }
    },
    {
      "cell_type": "markdown",
      "source": [
        "### Label encoder which will be used in the classifiers\n",
        "In this section the labels are converted into zeros and ones, so it is numerical data."
      ],
      "metadata": {
        "id": "vCkPnGW33Du0"
      }
    },
    {
      "cell_type": "code",
      "source": [
        "def label_encoder(Y_dataset):\n",
        "  '''\n",
        "  Function to initialize label encoder.\n",
        "\n",
        "  Input:\n",
        "    Y_dataset: labels of the train set\n",
        "  Output:\n",
        "    Y_dataset_encoded: labels of the train set converted to zeros and ones.\n",
        "    0 = benigne, 1 = malignant\n",
        "  '''\n",
        "  label_encoder = LabelEncoder()\n",
        "\n",
        "  # Apply label encoder on Y_train to transform categorical input to numeric input. Malignant = 1, benigne = 0\n",
        "  Y_dataset_encoded = label_encoder.fit_transform(Y_dataset)\n",
        "\n",
        "  # Define the coded classes\n",
        "  print(\"Coded classes:\", label_encoder.classes_)\n",
        "  return Y_dataset_encoded"
      ],
      "metadata": {
        "id": "1p5XIpfY2d3R"
      },
      "execution_count": 50,
      "outputs": []
    },
    {
      "cell_type": "markdown",
      "source": [
        "### K-NN\n",
        "In this section the k-nearest neighbour classifier is created."
      ],
      "metadata": {
        "id": "dDsXo_G7R0Jz"
      }
    },
    {
      "cell_type": "code",
      "source": [
        "def KNN(X_dataset_rfecv, Y_dataset_encoded):\n",
        "  '''\n",
        "  Function to create and fit the KNN-classifier. Finally, the best performing\n",
        "  parameters and classifier is selected.\n",
        "\n",
        "  Input:\n",
        "    X_dataset_rfecv: a dataframe of the train set with only the selected features\n",
        "    after RFECV\n",
        "    Y_dataset_encoded: labels of the train set converted to zeros and ones.\n",
        "    0 = benigne, 1 = malignant\n",
        "  Output:\n",
        "    knn_classifier: the best performing KNN-classifier\n",
        "  '''\n",
        "  # Define a parameter grid for RandomizedSearchCV\n",
        "  parameter_grid = {'n_neighbors': list(range(10, 40)),\n",
        "                    'weights': ['uniform','distance'],\n",
        "                    'p': [1,2],\n",
        "                    'algorithm': ['ball_tree','kd_tree','brute','auto'],\n",
        "                    'leaf_size': [30]\n",
        "                    }\n",
        "\n",
        "  # Create a RandomizedSearchCV and apply it to the dataset with crossvalidation\n",
        "  rscv_knn = RandomizedSearchCV(KNeighborsClassifier(), param_distributions=parameter_grid, n_iter=40, cv=cv, random_state=0, scoring=f2_scorer)\n",
        "\n",
        "  # Fit the classifier\n",
        "  rscv_knn.fit(X_dataset_rfecv, Y_dataset_encoded)\n",
        "\n",
        "  # Extract the best parameters and show the F2-score\n",
        "  print('Best parameters found for KNN-classifier:', rscv_knn.best_params_)\n",
        "  print('Best F2-score found for KNN-classifier:', rscv_knn.best_score_)\n",
        "\n",
        "  # Fit the classifier with the best parameters on the dataset\n",
        "  knn_classifier = rscv_knn.best_estimator_\n",
        "  knn_classifier.fit(X_dataset_rfecv, Y_dataset_encoded)\n",
        "  return knn_classifier"
      ],
      "metadata": {
        "id": "EVTJAc2R2l_O"
      },
      "execution_count": 71,
      "outputs": []
    },
    {
      "cell_type": "markdown",
      "source": [
        "### Decision Tree Classifier\n",
        "In this section the decision tree classifier is created."
      ],
      "metadata": {
        "id": "6Fgle8xnL766"
      }
    },
    {
      "cell_type": "code",
      "source": [
        "def DTC(X_dataset_rfecv, Y_dataset_encoded):\n",
        "  '''\n",
        "  Function to create and fit the decision tree classifier. Finally, the best\n",
        "  performing parameters and classifier is selected.\n",
        "\n",
        "  Input:\n",
        "    X_dataset_rfecv: a dataframe of the train set with only the selected features\n",
        "    after RFECV\n",
        "    Y_dataset_encoded: labels of the train set converted to zeros and ones.\n",
        "    0 = benigne, 1 = malignant\n",
        "  Output:\n",
        "    dtc_classifier: the best performing decision tree classifier\n",
        "  '''\n",
        "\n",
        "  # Define a parameter grid for RandomizedSearchCV\n",
        "  parameter_grid = {\"max_depth\": np.arange(3,10,1),\n",
        "                    \"min_samples_split\": np.arange(10,30,2),\n",
        "                    'min_samples_leaf': np.arange(10,30,2),\n",
        "                    \"criterion\": ['gini', 'entropy', 'log_loss'],\n",
        "                    \"splitter\": ['best'],\n",
        "                    }\n",
        "\n",
        "  # Create a RandomizedSearchCV and apply it to the dataset with crossvalidation\n",
        "  rscv_dtc = RandomizedSearchCV(tree.DecisionTreeClassifier(), param_distributions=parameter_grid, refit=True, verbose=1, scoring=f2_scorer, cv=cv, random_state=0, n_iter=30)\n",
        "\n",
        "  # Fit the classifier\n",
        "  rscv_dtc.fit(X_dataset_rfecv, Y_dataset_encoded)\n",
        "\n",
        "  # Extract the best parameters and show the F2-score\n",
        "  print('Best parameters found for decision tree classifier:', rscv_dtc.best_params_)\n",
        "  print('Best F2-score found for decision tree classifier:', rscv_dtc.best_score_)\n",
        "\n",
        "  # Fit the classifier with the best parameters on the dataset\n",
        "  dtc_classifier = rscv_dtc.best_estimator_\n",
        "  dtc_classifier.fit(X_dataset_rfecv, Y_dataset_encoded)\n",
        "  return dtc_classifier"
      ],
      "metadata": {
        "id": "-hPksamiL94z"
      },
      "execution_count": 72,
      "outputs": []
    },
    {
      "cell_type": "markdown",
      "source": [
        "### RandomForest Classifier\n",
        "In this section the random forest classifier is created."
      ],
      "metadata": {
        "id": "YaU8-K616yYB"
      }
    },
    {
      "cell_type": "code",
      "source": [
        "def RFC(X_dataset_rfecv, Y_dataset_encoded):\n",
        "  '''\n",
        "  Function to create and fit the random forest classifier. Finally, the best\n",
        "  performing parameters and classifier is selected.\n",
        "\n",
        "  Input:\n",
        "    X_dataset_rfecv: a dataframe of the train set with only the selected features\n",
        "    after RFECV\n",
        "    Y_dataset_encoded: labels of the train set converted to zeros and ones.\n",
        "    0 = benigne, 1 = malignant\n",
        "  Output:\n",
        "    rf_classifier: the best performing random forest classifier\n",
        "  '''\n",
        "  parameter_grid = {'n_estimators': np.arange(25, 100, 5),\n",
        "                  'max_depth': np.arange(3, 7),\n",
        "                  'max_leaf_nodes': np.arange(2, 8),\n",
        "                  'min_samples_leaf': np.arange(5, 10)\n",
        "                 }\n",
        "\n",
        "  # Create a RandomizedSearchCV and apply it to the dataset with crossvalidation\n",
        "  rscv_rf = RandomizedSearchCV(RandomForestClassifier(), param_distributions=parameter_grid, cv=cv, n_iter=20, scoring=f2_scorer, random_state=0)\n",
        "\n",
        "  # Fit the classifier\n",
        "  rscv_rf.fit(X_dataset_rfecv, Y_dataset_encoded)\n",
        "\n",
        "  # Extract the best parameters and show the F2-score\n",
        "  print('Best parameters found for random forest classifier:', rscv_rf.best_params_)\n",
        "  print('Best F2-score found for random forest classifier:', rscv_rf.best_score_)\n",
        "\n",
        "  # Fit the classifier with the best parameters on the dataset\n",
        "  rf_classifier = rscv_rf.best_estimator_\n",
        "  rf_classifier.fit(X_dataset_rfecv, Y_dataset_encoded)\n",
        "  return rf_classifier"
      ],
      "metadata": {
        "id": "C96xN8KEDWpd"
      },
      "execution_count": 73,
      "outputs": []
    },
    {
      "cell_type": "markdown",
      "source": [
        "### SVM\n",
        "In this section the support vector classifier is created."
      ],
      "metadata": {
        "id": "Upkn6-kGR38U"
      }
    },
    {
      "cell_type": "code",
      "source": [
        "def SVM(X_dataset_rfecv, Y_dataset_encoded):\n",
        "  '''\n",
        "  Function to create and fit the support vector machine classifier. Finally,\n",
        "  the best performing parameters and classifier is selected.\n",
        "\n",
        "  Input:\n",
        "    X_dataset_rfecv: a dataframe of the train set with only the selected features\n",
        "    after RFECV\n",
        "    Y_dataset_encoded: labels of the train set converted to zeros and ones.\n",
        "    0 = benigne, 1 = malignant\n",
        "  Output:\n",
        "    svm_classifier: the best performing support vector machine classifier\n",
        "  '''\n",
        "\n",
        "  # Define a parameter grid for RandomizedSearchCV\n",
        "  parameter_grid = {'C': np.logspace(-3, 1, 5),  # Probeer kleinere waarden voor C\n",
        "                  'kernel': ['linear'],  # Gebruik een lineaire kernel\n",
        "                  'probability': [True]\n",
        "                  }\n",
        "\n",
        "  # Create a RandomizedSearchCV and apply it to the dataset with crossvalidation\n",
        "  rscv_svm = RandomizedSearchCV(SVC(), param_distributions=parameter_grid, n_iter=20, cv=cv, scoring=f2_scorer, random_state=0)\n",
        "\n",
        "  # Fit the classifier\n",
        "  rscv_svm.fit(X_dataset_rfecv, Y_dataset_encoded)\n",
        "\n",
        "  # Extract the best parameters and show the F2-score\n",
        "  print('Best parameters found for SVM classifier:', rscv_svm.best_params_)\n",
        "  print('Best F2-score found for SVM classifier:', rscv_svm.best_score_)\n",
        "\n",
        "  # Fit the classifier with the best parameters on the dataset\n",
        "  svm_classifier = rscv_svm.best_estimator_\n",
        "  svm_classifier.fit(X_train_rfecv, Y_train_encoded)\n",
        "  return svm_classifier"
      ],
      "metadata": {
        "id": "cKX_CY--R4TA"
      },
      "execution_count": 74,
      "outputs": []
    },
    {
      "cell_type": "markdown",
      "source": [
        "### Ensembling\n",
        "In this function the voting classifier is created. In this classifier only the three best performing classifiers are used."
      ],
      "metadata": {
        "id": "iO5AxED1WEmM"
      }
    },
    {
      "cell_type": "code",
      "source": [
        "def voting(X_dataset_rfecv, Y_dataset):\n",
        "  '''\n",
        "  Function to create and fit voting classifier.\n",
        "\n",
        "  Input:\n",
        "    X_dataset_rfecv: a dataframe of the train set with only the selected features\n",
        "    after RFECV\n",
        "    Y_dataset_encoded: labels of the train set converted to zeros and ones.\n",
        "    0 = benigne, 1 = malignant\n",
        "  Output:\n",
        "    voting: the voting classifier\n",
        "  '''\n",
        "\n",
        "  voting = VotingClassifier(estimators=[\n",
        "  ('knn', KNN_classifier),\n",
        "  ('rf', RF_classifier),\n",
        "  ('svm', SVM_classifier)],\n",
        "  voting='soft')\n",
        "\n",
        "  # Train de voting classifier\n",
        "  voting.fit(X_dataset_rfecv, Y_dataset)\n",
        "  return voting"
      ],
      "metadata": {
        "id": "EWh4q2luWE_c"
      },
      "execution_count": 75,
      "outputs": []
    },
    {
      "cell_type": "markdown",
      "source": [
        "## Checking performance"
      ],
      "metadata": {
        "id": "JGifcnPUFuDB"
      }
    },
    {
      "cell_type": "markdown",
      "source": [
        "### Learning curves\n",
        "In this section a function to plot a learning curve is created, so you can see the training and validation performance while increasing the train size."
      ],
      "metadata": {
        "id": "aIezo95NPVPz"
      }
    },
    {
      "cell_type": "code",
      "source": [
        "def plot_learning_curve(estimator, title, X_dataset_rfecv, Y_dataset_encoded, cv=None, train_sizes=np.linspace(.1, 1.0, 10)):\n",
        "    '''\n",
        "    Function to plot a learning curve.\n",
        "\n",
        "    Input:\n",
        "      estimator: classifier of which you'd like to see the learning curve\n",
        "      title: title of the figure\n",
        "      X_dataset_rfecv: a dataframe of the train or test set with only the selected features\n",
        "      after RFECV\n",
        "      Y_dataset_encoded: labels of the train set converted to zeros and ones.\n",
        "      0 = benigne, 1 = malignant\n",
        "      cv: type of cross-validation\n",
        "    Output:\n",
        "      plt: figure\n",
        "    '''\n",
        "    plt.figure(figsize=(10, 6))\n",
        "    plt.title(title)\n",
        "    plt.xlabel(\"Number of training examples\")\n",
        "    plt.ylabel(\"F2-score\")\n",
        "\n",
        "    train_sizes, train_scores, test_scores = learning_curve(\n",
        "        estimator, X_dataset_rfecv, Y_dataset_encoded, cv=cv, scoring=f2_scorer, train_sizes=train_sizes, n_jobs=-1, random_state=0)\n",
        "\n",
        "    train_scores_mean = np.mean(train_scores, axis=1)\n",
        "    train_scores_std = np.std(train_scores, axis=1)\n",
        "    test_scores_mean = np.mean(test_scores, axis=1)\n",
        "    test_scores_std = np.std(test_scores, axis=1)\n",
        "\n",
        "    plt.grid()\n",
        "\n",
        "    plt.fill_between(train_sizes, train_scores_mean - train_scores_std,\n",
        "                     train_scores_mean + train_scores_std, alpha=0.1,\n",
        "                     color=\"r\")\n",
        "    plt.fill_between(train_sizes, test_scores_mean - test_scores_std,\n",
        "                     test_scores_mean + test_scores_std, alpha=0.1, color=\"g\")\n",
        "    plt.plot(train_sizes, train_scores_mean, 'o-', color=\"r\",\n",
        "             label=\"Training F2-score\")\n",
        "    plt.plot(train_sizes, test_scores_mean, 'o-', color=\"g\",\n",
        "             label=\"Cross-validation F2-score\")\n",
        "\n",
        "    plt.legend(loc=\"best\")\n",
        "    return plt"
      ],
      "metadata": {
        "id": "Esrky7XRPXfs"
      },
      "execution_count": 56,
      "outputs": []
    },
    {
      "cell_type": "markdown",
      "source": [
        "### Calculating metrics\n",
        "In this section various metrics are calculated and showed in a table.\n"
      ],
      "metadata": {
        "id": "wVslX0Q2Z5Il"
      }
    },
    {
      "cell_type": "code",
      "source": [
        "def metrics(classifiers, X_dataset_rfecv, Y_dataset):\n",
        "  '''\n",
        "  Function to calculate the metrics of the classifiers and show these in a table.\n",
        "\n",
        "  Input:\n",
        "    classifiers: classifiers of which you'd like to see the metrics\n",
        "    X_dataset_rfecv: a dataframe of the train or test set with only the selected features\n",
        "    after RFECV\n",
        "    Y_dataset: labels\n",
        "  '''\n",
        "  results = {'Metrics': ['Accuracy', 'Precision', 'Recall', 'F2 score', 'ROC AUC']}\n",
        "\n",
        "  # Loop through best fitted classifiers, perform cross_validation and calculate the mean scores\n",
        "  for clf in classifiers:\n",
        "    accuracy = cross_val_score(clf, X_dataset_rfecv, Y_dataset, cv=cv, scoring='accuracy').mean()\n",
        "    precision = cross_val_score(clf, X_dataset_rfecv, Y_dataset, cv=cv, scoring='precision_macro').mean()\n",
        "    recall = cross_val_score(clf, X_dataset_rfecv, Y_dataset, cv=cv, scoring='recall_macro').mean()\n",
        "    f2_score = cross_val_score(clf, X_dataset_rfecv, Y_dataset, cv=cv, scoring=f2_scorer).mean()\n",
        "    roc_auc = cross_val_score(clf, X_dataset_rfecv, Y_dataset, cv=cv, scoring='roc_auc').mean()\n",
        "\n",
        "    # Add classifier names to the table\n",
        "    clf_name = clf.__class__.__name__\n",
        "    results[clf_name] = [accuracy, precision, recall, f2_score, roc_auc]\n",
        "\n",
        "  # Create a dataframe of the results\n",
        "  results_df = pd.DataFrame(results)\n",
        "\n",
        "  # Transpose dataframe\n",
        "  results_df.set_index('Metrics', inplace=True)\n",
        "  results_df = results_df.T\n",
        "\n",
        "  # Print table\n",
        "  print(tabulate(results_df, headers='keys', tablefmt='pretty'))\n",
        "  return None"
      ],
      "metadata": {
        "id": "vWtmvzg0Z7sO"
      },
      "execution_count": 57,
      "outputs": []
    },
    {
      "cell_type": "markdown",
      "source": [
        "### ROC curve\n",
        "In this section the Receiver operating characteristic curve is created to eventually test the performance of the best classifier on the test set."
      ],
      "metadata": {
        "id": "aq362gEiJO2I"
      }
    },
    {
      "cell_type": "code",
      "source": [
        "def plot_roc_curve(y_pred, y_truth):\n",
        "    '''\n",
        "    Function to plot an ROC curve.\n",
        "\n",
        "    Input:\n",
        "      y_pred: list of the predicted labels\n",
        "      y_truth: list of the true labels\n",
        "    '''\n",
        "\n",
        "    # Compute ROC curve and ROC area for each class\n",
        "    fpr, tpr, _ = roc_curve(y_truth, y_pred)\n",
        "    roc_auc = auc(fpr, tpr)\n",
        "\n",
        "    # Plot the ROC curve\n",
        "    plt.figure()\n",
        "    lw = 2\n",
        "    plt.plot(fpr, tpr, color='darkorange',\n",
        "             lw=lw, label='ROC curve (area = %0.2f)' % roc_auc)\n",
        "    plt.plot([0, 1], [0, 1], color='navy', lw=lw, linestyle='--')\n",
        "    plt.xlim([0.0, 1.0])\n",
        "    plt.ylim([0.0, 1.05])\n",
        "    plt.xlabel('False positive rate')\n",
        "    plt.ylabel('True positive rate')\n",
        "    plt.title('ROC curve')\n",
        "    plt.legend(loc=\"lower right\")\n",
        "    plt.show()\n",
        "    return None"
      ],
      "metadata": {
        "id": "HU9FmWb0JoZZ"
      },
      "execution_count": 58,
      "outputs": []
    },
    {
      "cell_type": "markdown",
      "source": [
        "### Confusion matrix\n",
        "In this section a confusion matrix is created to eventually test the performance of the best classifier on the test set. In this confusion matrix you could see the true/false positives/negatives."
      ],
      "metadata": {
        "id": "w_5InxsbJo1w"
      }
    },
    {
      "cell_type": "code",
      "source": [
        "def determine_confusion_matrix(y_truth, y_pred):\n",
        "    '''\n",
        "    Function to create a confusion matrix.\n",
        "\n",
        "    Input:\n",
        "      y_truth: list of the true labels\n",
        "      y_pred: list of the predicted labels\n",
        "    '''\n",
        "    cm = confusion_matrix(y_truth, y_pred)\n",
        "    cm_display = ConfusionMatrixDisplay(confusion_matrix=cm, display_labels=['Benigne', 'Malignant'])\n",
        "    cm_display.plot()\n",
        "    plt.title('Confusion matrix')\n",
        "    plt.show()\n",
        "    return None"
      ],
      "metadata": {
        "id": "KG1HuTV3JtvG"
      },
      "execution_count": 59,
      "outputs": []
    },
    {
      "cell_type": "markdown",
      "source": [
        "## Performing global functions on dataset"
      ],
      "metadata": {
        "id": "MKQWn3lrEDGa"
      }
    },
    {
      "cell_type": "code",
      "source": [
        "# Loading data\n",
        "data = load_data()\n",
        "\n",
        "# Inspecting data\n",
        "inspecting_data(data)\n",
        "\n",
        "# Splitting dataset\n",
        "X_train, X_test, Y_train, Y_test = split(data)"
      ],
      "metadata": {
        "id": "o0R59QnvECzY",
        "outputId": "a8ec9856-95e9-4c35-9565-83409306cd40",
        "colab": {
          "base_uri": "https://localhost:8080/",
          "height": 564
        }
      },
      "execution_count": 60,
      "outputs": [
        {
          "output_type": "stream",
          "name": "stdout",
          "text": [
            "The number of samples: 186\n",
            "The number of features: 494\n",
            "The percentage of tumors that is malignant is 50.53763440860215\n",
            "Amount of featuers not normally distributed: 493\n",
            "Amount of features normally distributed: 0\n",
            "Number of None types: 0\n",
            "Number of NaN values: 0\n",
            "Amount samples in X_train (X_train): 148\n",
            "Amount samples in X_test  (X_test): 38\n",
            "Amount samples in Y_train (Y_train): 148\n",
            "Amount samples in Y_test (Y_test): 38\n"
          ]
        },
        {
          "output_type": "display_data",
          "data": {
            "text/plain": [
              "             PREDICT_original_sf_compactness_avg_2.5D  \\\n",
              "ID                                                      \n",
              "Liver-149_0                                  0.824583   \n",
              "Liver-132_0                                  0.801146   \n",
              "Liver-018_0                                  0.784347   \n",
              "Liver-135_0                                  0.762971   \n",
              "Liver-015_0                                  0.836579   \n",
              "\n",
              "             PREDICT_original_sf_compactness_std_2.5D  \\\n",
              "ID                                                      \n",
              "Liver-149_0                                  0.055989   \n",
              "Liver-132_0                                  0.092439   \n",
              "Liver-018_0                                  0.051682   \n",
              "Liver-135_0                                  0.071214   \n",
              "Liver-015_0                                  0.075738   \n",
              "\n",
              "             PREDICT_original_sf_rad_dist_avg_2.5D  \\\n",
              "ID                                                   \n",
              "Liver-149_0                              30.099345   \n",
              "Liver-132_0                              62.217271   \n",
              "Liver-018_0                              29.057589   \n",
              "Liver-135_0                              39.719594   \n",
              "Liver-015_0                              61.507831   \n",
              "\n",
              "             PREDICT_original_sf_rad_dist_std_2.5D  \\\n",
              "ID                                                   \n",
              "Liver-149_0                               4.415992   \n",
              "Liver-132_0                               5.375470   \n",
              "Liver-018_0                               5.423131   \n",
              "Liver-135_0                               6.220513   \n",
              "Liver-015_0                               7.303462   \n",
              "\n",
              "             PREDICT_original_sf_roughness_avg_2.5D  \\\n",
              "ID                                                    \n",
              "Liver-149_0                                3.661071   \n",
              "Liver-132_0                                6.822246   \n",
              "Liver-018_0                                8.776120   \n",
              "Liver-135_0                                8.349609   \n",
              "Liver-015_0                               11.104662   \n",
              "\n",
              "             PREDICT_original_sf_roughness_std_2.5D  \\\n",
              "ID                                                    \n",
              "Liver-149_0                                1.861613   \n",
              "Liver-132_0                                2.509137   \n",
              "Liver-018_0                                6.493751   \n",
              "Liver-135_0                                4.035151   \n",
              "Liver-015_0                                3.733124   \n",
              "\n",
              "             PREDICT_original_sf_convexity_avg_2.5D  \\\n",
              "ID                                                    \n",
              "Liver-149_0                                0.963279   \n",
              "Liver-132_0                                0.924549   \n",
              "Liver-018_0                                0.967914   \n",
              "Liver-135_0                                0.944998   \n",
              "Liver-015_0                                0.952526   \n",
              "\n",
              "             PREDICT_original_sf_convexity_std_2.5D  \\\n",
              "ID                                                    \n",
              "Liver-149_0                                0.022393   \n",
              "Liver-132_0                                0.049767   \n",
              "Liver-018_0                                0.015269   \n",
              "Liver-135_0                                0.031507   \n",
              "Liver-015_0                                0.027722   \n",
              "\n",
              "             PREDICT_original_sf_cvar_avg_2.5D  \\\n",
              "ID                                               \n",
              "Liver-149_0                           0.021571   \n",
              "Liver-132_0                           0.007751   \n",
              "Liver-018_0                           0.035515   \n",
              "Liver-135_0                           0.028765   \n",
              "Liver-015_0                           0.016664   \n",
              "\n",
              "             PREDICT_original_sf_cvar_std_2.5D  ...  \\\n",
              "ID                                              ...   \n",
              "Liver-149_0                           0.011780  ...   \n",
              "Liver-132_0                           0.002992  ...   \n",
              "Liver-018_0                           0.011933  ...   \n",
              "Liver-135_0                           0.017286  ...   \n",
              "Liver-015_0                           0.011443  ...   \n",
              "\n",
              "             PREDICT_original_phasef_phasesym_median_WL3_N5  \\\n",
              "ID                                                            \n",
              "Liver-149_0                                        0.000000   \n",
              "Liver-132_0                                        0.000000   \n",
              "Liver-018_0                                        0.015554   \n",
              "Liver-135_0                                        0.000000   \n",
              "Liver-015_0                                        0.000000   \n",
              "\n",
              "             PREDICT_original_phasef_phasesym_std_WL3_N5  \\\n",
              "ID                                                         \n",
              "Liver-149_0                                     0.104107   \n",
              "Liver-132_0                                     0.100082   \n",
              "Liver-018_0                                     0.152348   \n",
              "Liver-135_0                                     0.108344   \n",
              "Liver-015_0                                     0.078725   \n",
              "\n",
              "             PREDICT_original_phasef_phasesym_skewness_WL3_N5  \\\n",
              "ID                                                              \n",
              "Liver-149_0                                          2.756906   \n",
              "Liver-132_0                                          3.289330   \n",
              "Liver-018_0                                          1.301602   \n",
              "Liver-135_0                                          1.929157   \n",
              "Liver-015_0                                          3.747019   \n",
              "\n",
              "             PREDICT_original_phasef_phasesym_kurtosis_WL3_N5  \\\n",
              "ID                                                              \n",
              "Liver-149_0                                          8.453818   \n",
              "Liver-132_0                                         11.458823   \n",
              "Liver-018_0                                          0.810392   \n",
              "Liver-135_0                                          3.090863   \n",
              "Liver-015_0                                         15.215261   \n",
              "\n",
              "             PREDICT_original_phasef_phasesym_peak_WL3_N5  \\\n",
              "ID                                                          \n",
              "Liver-149_0                                           0.0   \n",
              "Liver-132_0                                           0.0   \n",
              "Liver-018_0                                           0.0   \n",
              "Liver-135_0                                           0.0   \n",
              "Liver-015_0                                           0.0   \n",
              "\n",
              "             PREDICT_original_phasef_phasesym_peak_position_WL3_N5  \\\n",
              "ID                                                                   \n",
              "Liver-149_0                                                  0       \n",
              "Liver-132_0                                                  0       \n",
              "Liver-018_0                                                  0       \n",
              "Liver-135_0                                                  0       \n",
              "Liver-015_0                                                  0       \n",
              "\n",
              "             PREDICT_original_phasef_phasesym_range_WL3_N5  \\\n",
              "ID                                                           \n",
              "Liver-149_0                                       0.409805   \n",
              "Liver-132_0                                       0.412003   \n",
              "Liver-018_0                                       0.526233   \n",
              "Liver-135_0                                       0.391573   \n",
              "Liver-015_0                                       0.332604   \n",
              "\n",
              "             PREDICT_original_phasef_phasesym_energy_WL3_N5  \\\n",
              "ID                                                            \n",
              "Liver-149_0                                      222.558113   \n",
              "Liver-132_0                                     2198.965478   \n",
              "Liver-018_0                                      678.343564   \n",
              "Liver-135_0                                     1168.726859   \n",
              "Liver-015_0                                     1306.631943   \n",
              "\n",
              "             PREDICT_original_phasef_phasesym_quartile_range_WL3_N5  \\\n",
              "ID                                                                    \n",
              "Liver-149_0                                           0.042636        \n",
              "Liver-132_0                                           0.000000        \n",
              "Liver-018_0                                           0.211135        \n",
              "Liver-135_0                                           0.088960        \n",
              "Liver-015_0                                           0.000000        \n",
              "\n",
              "             PREDICT_original_phasef_phasesym_entropy_WL3_N5  \n",
              "ID                                                            \n",
              "Liver-149_0                                        11.809102  \n",
              "Liver-132_0                                        14.737962  \n",
              "Liver-018_0                                        12.903202  \n",
              "Liver-135_0                                        14.316269  \n",
              "Liver-015_0                                        14.384808  \n",
              "\n",
              "[5 rows x 493 columns]"
            ],
            "text/html": [
              "\n",
              "  <div id=\"df-2f7be832-be98-41e0-b2c2-441572cb496f\" class=\"colab-df-container\">\n",
              "    <div>\n",
              "<style scoped>\n",
              "    .dataframe tbody tr th:only-of-type {\n",
              "        vertical-align: middle;\n",
              "    }\n",
              "\n",
              "    .dataframe tbody tr th {\n",
              "        vertical-align: top;\n",
              "    }\n",
              "\n",
              "    .dataframe thead th {\n",
              "        text-align: right;\n",
              "    }\n",
              "</style>\n",
              "<table border=\"1\" class=\"dataframe\">\n",
              "  <thead>\n",
              "    <tr style=\"text-align: right;\">\n",
              "      <th></th>\n",
              "      <th>PREDICT_original_sf_compactness_avg_2.5D</th>\n",
              "      <th>PREDICT_original_sf_compactness_std_2.5D</th>\n",
              "      <th>PREDICT_original_sf_rad_dist_avg_2.5D</th>\n",
              "      <th>PREDICT_original_sf_rad_dist_std_2.5D</th>\n",
              "      <th>PREDICT_original_sf_roughness_avg_2.5D</th>\n",
              "      <th>PREDICT_original_sf_roughness_std_2.5D</th>\n",
              "      <th>PREDICT_original_sf_convexity_avg_2.5D</th>\n",
              "      <th>PREDICT_original_sf_convexity_std_2.5D</th>\n",
              "      <th>PREDICT_original_sf_cvar_avg_2.5D</th>\n",
              "      <th>PREDICT_original_sf_cvar_std_2.5D</th>\n",
              "      <th>...</th>\n",
              "      <th>PREDICT_original_phasef_phasesym_median_WL3_N5</th>\n",
              "      <th>PREDICT_original_phasef_phasesym_std_WL3_N5</th>\n",
              "      <th>PREDICT_original_phasef_phasesym_skewness_WL3_N5</th>\n",
              "      <th>PREDICT_original_phasef_phasesym_kurtosis_WL3_N5</th>\n",
              "      <th>PREDICT_original_phasef_phasesym_peak_WL3_N5</th>\n",
              "      <th>PREDICT_original_phasef_phasesym_peak_position_WL3_N5</th>\n",
              "      <th>PREDICT_original_phasef_phasesym_range_WL3_N5</th>\n",
              "      <th>PREDICT_original_phasef_phasesym_energy_WL3_N5</th>\n",
              "      <th>PREDICT_original_phasef_phasesym_quartile_range_WL3_N5</th>\n",
              "      <th>PREDICT_original_phasef_phasesym_entropy_WL3_N5</th>\n",
              "    </tr>\n",
              "    <tr>\n",
              "      <th>ID</th>\n",
              "      <th></th>\n",
              "      <th></th>\n",
              "      <th></th>\n",
              "      <th></th>\n",
              "      <th></th>\n",
              "      <th></th>\n",
              "      <th></th>\n",
              "      <th></th>\n",
              "      <th></th>\n",
              "      <th></th>\n",
              "      <th></th>\n",
              "      <th></th>\n",
              "      <th></th>\n",
              "      <th></th>\n",
              "      <th></th>\n",
              "      <th></th>\n",
              "      <th></th>\n",
              "      <th></th>\n",
              "      <th></th>\n",
              "      <th></th>\n",
              "      <th></th>\n",
              "    </tr>\n",
              "  </thead>\n",
              "  <tbody>\n",
              "    <tr>\n",
              "      <th>Liver-149_0</th>\n",
              "      <td>0.824583</td>\n",
              "      <td>0.055989</td>\n",
              "      <td>30.099345</td>\n",
              "      <td>4.415992</td>\n",
              "      <td>3.661071</td>\n",
              "      <td>1.861613</td>\n",
              "      <td>0.963279</td>\n",
              "      <td>0.022393</td>\n",
              "      <td>0.021571</td>\n",
              "      <td>0.011780</td>\n",
              "      <td>...</td>\n",
              "      <td>0.000000</td>\n",
              "      <td>0.104107</td>\n",
              "      <td>2.756906</td>\n",
              "      <td>8.453818</td>\n",
              "      <td>0.0</td>\n",
              "      <td>0</td>\n",
              "      <td>0.409805</td>\n",
              "      <td>222.558113</td>\n",
              "      <td>0.042636</td>\n",
              "      <td>11.809102</td>\n",
              "    </tr>\n",
              "    <tr>\n",
              "      <th>Liver-132_0</th>\n",
              "      <td>0.801146</td>\n",
              "      <td>0.092439</td>\n",
              "      <td>62.217271</td>\n",
              "      <td>5.375470</td>\n",
              "      <td>6.822246</td>\n",
              "      <td>2.509137</td>\n",
              "      <td>0.924549</td>\n",
              "      <td>0.049767</td>\n",
              "      <td>0.007751</td>\n",
              "      <td>0.002992</td>\n",
              "      <td>...</td>\n",
              "      <td>0.000000</td>\n",
              "      <td>0.100082</td>\n",
              "      <td>3.289330</td>\n",
              "      <td>11.458823</td>\n",
              "      <td>0.0</td>\n",
              "      <td>0</td>\n",
              "      <td>0.412003</td>\n",
              "      <td>2198.965478</td>\n",
              "      <td>0.000000</td>\n",
              "      <td>14.737962</td>\n",
              "    </tr>\n",
              "    <tr>\n",
              "      <th>Liver-018_0</th>\n",
              "      <td>0.784347</td>\n",
              "      <td>0.051682</td>\n",
              "      <td>29.057589</td>\n",
              "      <td>5.423131</td>\n",
              "      <td>8.776120</td>\n",
              "      <td>6.493751</td>\n",
              "      <td>0.967914</td>\n",
              "      <td>0.015269</td>\n",
              "      <td>0.035515</td>\n",
              "      <td>0.011933</td>\n",
              "      <td>...</td>\n",
              "      <td>0.015554</td>\n",
              "      <td>0.152348</td>\n",
              "      <td>1.301602</td>\n",
              "      <td>0.810392</td>\n",
              "      <td>0.0</td>\n",
              "      <td>0</td>\n",
              "      <td>0.526233</td>\n",
              "      <td>678.343564</td>\n",
              "      <td>0.211135</td>\n",
              "      <td>12.903202</td>\n",
              "    </tr>\n",
              "    <tr>\n",
              "      <th>Liver-135_0</th>\n",
              "      <td>0.762971</td>\n",
              "      <td>0.071214</td>\n",
              "      <td>39.719594</td>\n",
              "      <td>6.220513</td>\n",
              "      <td>8.349609</td>\n",
              "      <td>4.035151</td>\n",
              "      <td>0.944998</td>\n",
              "      <td>0.031507</td>\n",
              "      <td>0.028765</td>\n",
              "      <td>0.017286</td>\n",
              "      <td>...</td>\n",
              "      <td>0.000000</td>\n",
              "      <td>0.108344</td>\n",
              "      <td>1.929157</td>\n",
              "      <td>3.090863</td>\n",
              "      <td>0.0</td>\n",
              "      <td>0</td>\n",
              "      <td>0.391573</td>\n",
              "      <td>1168.726859</td>\n",
              "      <td>0.088960</td>\n",
              "      <td>14.316269</td>\n",
              "    </tr>\n",
              "    <tr>\n",
              "      <th>Liver-015_0</th>\n",
              "      <td>0.836579</td>\n",
              "      <td>0.075738</td>\n",
              "      <td>61.507831</td>\n",
              "      <td>7.303462</td>\n",
              "      <td>11.104662</td>\n",
              "      <td>3.733124</td>\n",
              "      <td>0.952526</td>\n",
              "      <td>0.027722</td>\n",
              "      <td>0.016664</td>\n",
              "      <td>0.011443</td>\n",
              "      <td>...</td>\n",
              "      <td>0.000000</td>\n",
              "      <td>0.078725</td>\n",
              "      <td>3.747019</td>\n",
              "      <td>15.215261</td>\n",
              "      <td>0.0</td>\n",
              "      <td>0</td>\n",
              "      <td>0.332604</td>\n",
              "      <td>1306.631943</td>\n",
              "      <td>0.000000</td>\n",
              "      <td>14.384808</td>\n",
              "    </tr>\n",
              "  </tbody>\n",
              "</table>\n",
              "<p>5 rows × 493 columns</p>\n",
              "</div>\n",
              "    <div class=\"colab-df-buttons\">\n",
              "\n",
              "  <div class=\"colab-df-container\">\n",
              "    <button class=\"colab-df-convert\" onclick=\"convertToInteractive('df-2f7be832-be98-41e0-b2c2-441572cb496f')\"\n",
              "            title=\"Convert this dataframe to an interactive table.\"\n",
              "            style=\"display:none;\">\n",
              "\n",
              "  <svg xmlns=\"http://www.w3.org/2000/svg\" height=\"24px\" viewBox=\"0 -960 960 960\">\n",
              "    <path d=\"M120-120v-720h720v720H120Zm60-500h600v-160H180v160Zm220 220h160v-160H400v160Zm0 220h160v-160H400v160ZM180-400h160v-160H180v160Zm440 0h160v-160H620v160ZM180-180h160v-160H180v160Zm440 0h160v-160H620v160Z\"/>\n",
              "  </svg>\n",
              "    </button>\n",
              "\n",
              "  <style>\n",
              "    .colab-df-container {\n",
              "      display:flex;\n",
              "      gap: 12px;\n",
              "    }\n",
              "\n",
              "    .colab-df-convert {\n",
              "      background-color: #E8F0FE;\n",
              "      border: none;\n",
              "      border-radius: 50%;\n",
              "      cursor: pointer;\n",
              "      display: none;\n",
              "      fill: #1967D2;\n",
              "      height: 32px;\n",
              "      padding: 0 0 0 0;\n",
              "      width: 32px;\n",
              "    }\n",
              "\n",
              "    .colab-df-convert:hover {\n",
              "      background-color: #E2EBFA;\n",
              "      box-shadow: 0px 1px 2px rgba(60, 64, 67, 0.3), 0px 1px 3px 1px rgba(60, 64, 67, 0.15);\n",
              "      fill: #174EA6;\n",
              "    }\n",
              "\n",
              "    .colab-df-buttons div {\n",
              "      margin-bottom: 4px;\n",
              "    }\n",
              "\n",
              "    [theme=dark] .colab-df-convert {\n",
              "      background-color: #3B4455;\n",
              "      fill: #D2E3FC;\n",
              "    }\n",
              "\n",
              "    [theme=dark] .colab-df-convert:hover {\n",
              "      background-color: #434B5C;\n",
              "      box-shadow: 0px 1px 3px 1px rgba(0, 0, 0, 0.15);\n",
              "      filter: drop-shadow(0px 1px 2px rgba(0, 0, 0, 0.3));\n",
              "      fill: #FFFFFF;\n",
              "    }\n",
              "  </style>\n",
              "\n",
              "    <script>\n",
              "      const buttonEl =\n",
              "        document.querySelector('#df-2f7be832-be98-41e0-b2c2-441572cb496f button.colab-df-convert');\n",
              "      buttonEl.style.display =\n",
              "        google.colab.kernel.accessAllowed ? 'block' : 'none';\n",
              "\n",
              "      async function convertToInteractive(key) {\n",
              "        const element = document.querySelector('#df-2f7be832-be98-41e0-b2c2-441572cb496f');\n",
              "        const dataTable =\n",
              "          await google.colab.kernel.invokeFunction('convertToInteractive',\n",
              "                                                    [key], {});\n",
              "        if (!dataTable) return;\n",
              "\n",
              "        const docLinkHtml = 'Like what you see? Visit the ' +\n",
              "          '<a target=\"_blank\" href=https://colab.research.google.com/notebooks/data_table.ipynb>data table notebook</a>'\n",
              "          + ' to learn more about interactive tables.';\n",
              "        element.innerHTML = '';\n",
              "        dataTable['output_type'] = 'display_data';\n",
              "        await google.colab.output.renderOutput(dataTable, element);\n",
              "        const docLink = document.createElement('div');\n",
              "        docLink.innerHTML = docLinkHtml;\n",
              "        element.appendChild(docLink);\n",
              "      }\n",
              "    </script>\n",
              "  </div>\n",
              "\n",
              "\n",
              "<div id=\"df-9222cbd1-e5f5-4dbb-bab7-d0e8e2503037\">\n",
              "  <button class=\"colab-df-quickchart\" onclick=\"quickchart('df-9222cbd1-e5f5-4dbb-bab7-d0e8e2503037')\"\n",
              "            title=\"Suggest charts\"\n",
              "            style=\"display:none;\">\n",
              "\n",
              "<svg xmlns=\"http://www.w3.org/2000/svg\" height=\"24px\"viewBox=\"0 0 24 24\"\n",
              "     width=\"24px\">\n",
              "    <g>\n",
              "        <path d=\"M19 3H5c-1.1 0-2 .9-2 2v14c0 1.1.9 2 2 2h14c1.1 0 2-.9 2-2V5c0-1.1-.9-2-2-2zM9 17H7v-7h2v7zm4 0h-2V7h2v10zm4 0h-2v-4h2v4z\"/>\n",
              "    </g>\n",
              "</svg>\n",
              "  </button>\n",
              "\n",
              "<style>\n",
              "  .colab-df-quickchart {\n",
              "      --bg-color: #E8F0FE;\n",
              "      --fill-color: #1967D2;\n",
              "      --hover-bg-color: #E2EBFA;\n",
              "      --hover-fill-color: #174EA6;\n",
              "      --disabled-fill-color: #AAA;\n",
              "      --disabled-bg-color: #DDD;\n",
              "  }\n",
              "\n",
              "  [theme=dark] .colab-df-quickchart {\n",
              "      --bg-color: #3B4455;\n",
              "      --fill-color: #D2E3FC;\n",
              "      --hover-bg-color: #434B5C;\n",
              "      --hover-fill-color: #FFFFFF;\n",
              "      --disabled-bg-color: #3B4455;\n",
              "      --disabled-fill-color: #666;\n",
              "  }\n",
              "\n",
              "  .colab-df-quickchart {\n",
              "    background-color: var(--bg-color);\n",
              "    border: none;\n",
              "    border-radius: 50%;\n",
              "    cursor: pointer;\n",
              "    display: none;\n",
              "    fill: var(--fill-color);\n",
              "    height: 32px;\n",
              "    padding: 0;\n",
              "    width: 32px;\n",
              "  }\n",
              "\n",
              "  .colab-df-quickchart:hover {\n",
              "    background-color: var(--hover-bg-color);\n",
              "    box-shadow: 0 1px 2px rgba(60, 64, 67, 0.3), 0 1px 3px 1px rgba(60, 64, 67, 0.15);\n",
              "    fill: var(--button-hover-fill-color);\n",
              "  }\n",
              "\n",
              "  .colab-df-quickchart-complete:disabled,\n",
              "  .colab-df-quickchart-complete:disabled:hover {\n",
              "    background-color: var(--disabled-bg-color);\n",
              "    fill: var(--disabled-fill-color);\n",
              "    box-shadow: none;\n",
              "  }\n",
              "\n",
              "  .colab-df-spinner {\n",
              "    border: 2px solid var(--fill-color);\n",
              "    border-color: transparent;\n",
              "    border-bottom-color: var(--fill-color);\n",
              "    animation:\n",
              "      spin 1s steps(1) infinite;\n",
              "  }\n",
              "\n",
              "  @keyframes spin {\n",
              "    0% {\n",
              "      border-color: transparent;\n",
              "      border-bottom-color: var(--fill-color);\n",
              "      border-left-color: var(--fill-color);\n",
              "    }\n",
              "    20% {\n",
              "      border-color: transparent;\n",
              "      border-left-color: var(--fill-color);\n",
              "      border-top-color: var(--fill-color);\n",
              "    }\n",
              "    30% {\n",
              "      border-color: transparent;\n",
              "      border-left-color: var(--fill-color);\n",
              "      border-top-color: var(--fill-color);\n",
              "      border-right-color: var(--fill-color);\n",
              "    }\n",
              "    40% {\n",
              "      border-color: transparent;\n",
              "      border-right-color: var(--fill-color);\n",
              "      border-top-color: var(--fill-color);\n",
              "    }\n",
              "    60% {\n",
              "      border-color: transparent;\n",
              "      border-right-color: var(--fill-color);\n",
              "    }\n",
              "    80% {\n",
              "      border-color: transparent;\n",
              "      border-right-color: var(--fill-color);\n",
              "      border-bottom-color: var(--fill-color);\n",
              "    }\n",
              "    90% {\n",
              "      border-color: transparent;\n",
              "      border-bottom-color: var(--fill-color);\n",
              "    }\n",
              "  }\n",
              "</style>\n",
              "\n",
              "  <script>\n",
              "    async function quickchart(key) {\n",
              "      const quickchartButtonEl =\n",
              "        document.querySelector('#' + key + ' button');\n",
              "      quickchartButtonEl.disabled = true;  // To prevent multiple clicks.\n",
              "      quickchartButtonEl.classList.add('colab-df-spinner');\n",
              "      try {\n",
              "        const charts = await google.colab.kernel.invokeFunction(\n",
              "            'suggestCharts', [key], {});\n",
              "      } catch (error) {\n",
              "        console.error('Error during call to suggestCharts:', error);\n",
              "      }\n",
              "      quickchartButtonEl.classList.remove('colab-df-spinner');\n",
              "      quickchartButtonEl.classList.add('colab-df-quickchart-complete');\n",
              "    }\n",
              "    (() => {\n",
              "      let quickchartButtonEl =\n",
              "        document.querySelector('#df-9222cbd1-e5f5-4dbb-bab7-d0e8e2503037 button');\n",
              "      quickchartButtonEl.style.display =\n",
              "        google.colab.kernel.accessAllowed ? 'block' : 'none';\n",
              "    })();\n",
              "  </script>\n",
              "</div>\n",
              "    </div>\n",
              "  </div>\n"
            ],
            "application/vnd.google.colaboratory.intrinsic+json": {
              "type": "dataframe"
            }
          },
          "metadata": {}
        }
      ]
    },
    {
      "cell_type": "markdown",
      "source": [
        "## Performing functions on training set"
      ],
      "metadata": {
        "id": "HjEE4UYL-Z0n"
      }
    },
    {
      "cell_type": "code",
      "source": [
        "# Creating way of scoring\n",
        "f2_scorer = make_scorer(fbeta_score, beta=2)\n",
        "# Initializing cross-validation\n",
        "cv = StratifiedKFold(n_splits=5)\n",
        "\n",
        "# Pre-processing\n",
        "X_train = delete_zeros(X_train)\n",
        "checking_zeros_after_deleting(X_train)\n",
        "outliers_total = define_outliers(X_train)\n",
        "print(f'In total there are {outliers_total} outliers')\n",
        "X_train_scaled = scaling(X_train)\n",
        "X_train_var = zero_variance(X_train_scaled)\n",
        "X_train_anova = anova_analysis(X_train_var, Y_train)\n",
        "X_train_rfecv, feature_names = function_calc_RFECV(X_train_anova,Y_train)\n",
        "Y_train_encoded = label_encoder(Y_train)\n",
        "\n",
        "# Classifiers\n",
        "KNN_classifier = KNN(X_train_rfecv, Y_train_encoded)\n",
        "DTC_classifier = DTC(X_train_rfecv, Y_train_encoded)\n",
        "RF_classifier = RFC(X_train_rfecv, Y_train_encoded)\n",
        "SVM_classifier = SVM(X_train_rfecv, Y_train_encoded)\n",
        "voting_classifier = voting(X_train_rfecv, Y_train_encoded)\n",
        "\n",
        "# Learning curves\n",
        "# Create a list with all the classifiers\n",
        "classifiers = {'Decision tree classifier': DTC_classifier, 'K-NN classifier': KNN_classifier, 'Random forest classifier': RF_classifier,\n",
        "               'SVM classifier': SVM_classifier, 'Ensembling through voting': voting_classifier}\n",
        "\n",
        "# Plot the learning curve for each classifier\n",
        "for name, clf in classifiers.items():\n",
        "  title = f\"Learning Curves ({name})\"\n",
        "  plot_learning_curve(clf, title, X_train_rfecv, Y_train_encoded, cv=cv)\n",
        "  plt.show()\n",
        "\n",
        "# Create a table with all the metrics of the classifiers performed on the training set\n",
        "metrics([KNN_classifier, DTC_classifier, RF_classifier, SVM_classifier, voting_classifier], X_train_rfecv, Y_train_encoded)"
      ],
      "metadata": {
        "id": "sO-leI7N-dzN",
        "outputId": "c7fd4065-bbcb-48ad-9362-7df6912b618e",
        "colab": {
          "base_uri": "https://localhost:8080/",
          "height": 356
        }
      },
      "execution_count": 83,
      "outputs": [
        {
          "output_type": "error",
          "ename": "ValueError",
          "evalue": "Setting a random_state has no effect since shuffle is False. You should leave random_state to its default (None), or set shuffle=True.",
          "traceback": [
            "\u001b[0;31m---------------------------------------------------------------------------\u001b[0m",
            "\u001b[0;31mValueError\u001b[0m                                Traceback (most recent call last)",
            "\u001b[0;32m<ipython-input-83-b99c21b9387b>\u001b[0m in \u001b[0;36m<cell line: 4>\u001b[0;34m()\u001b[0m\n\u001b[1;32m      2\u001b[0m \u001b[0mf2_scorer\u001b[0m \u001b[0;34m=\u001b[0m \u001b[0mmake_scorer\u001b[0m\u001b[0;34m(\u001b[0m\u001b[0mfbeta_score\u001b[0m\u001b[0;34m,\u001b[0m \u001b[0mbeta\u001b[0m\u001b[0;34m=\u001b[0m\u001b[0;36m2\u001b[0m\u001b[0;34m)\u001b[0m\u001b[0;34m\u001b[0m\u001b[0;34m\u001b[0m\u001b[0m\n\u001b[1;32m      3\u001b[0m \u001b[0;31m# Initializing cross-validation\u001b[0m\u001b[0;34m\u001b[0m\u001b[0;34m\u001b[0m\u001b[0m\n\u001b[0;32m----> 4\u001b[0;31m \u001b[0mcv\u001b[0m \u001b[0;34m=\u001b[0m \u001b[0mStratifiedKFold\u001b[0m\u001b[0;34m(\u001b[0m\u001b[0mn_splits\u001b[0m\u001b[0;34m=\u001b[0m\u001b[0;36m5\u001b[0m\u001b[0;34m,\u001b[0m \u001b[0mrandom_state\u001b[0m\u001b[0;34m=\u001b[0m\u001b[0;36m0\u001b[0m\u001b[0;34m)\u001b[0m\u001b[0;34m\u001b[0m\u001b[0;34m\u001b[0m\u001b[0m\n\u001b[0m\u001b[1;32m      5\u001b[0m \u001b[0;34m\u001b[0m\u001b[0m\n\u001b[1;32m      6\u001b[0m \u001b[0;31m# Pre-processing\u001b[0m\u001b[0;34m\u001b[0m\u001b[0;34m\u001b[0m\u001b[0m\n",
            "\u001b[0;32m/usr/local/lib/python3.10/dist-packages/sklearn/model_selection/_split.py\u001b[0m in \u001b[0;36m__init__\u001b[0;34m(self, n_splits, shuffle, random_state)\u001b[0m\n\u001b[1;32m    666\u001b[0m \u001b[0;34m\u001b[0m\u001b[0m\n\u001b[1;32m    667\u001b[0m     \u001b[0;32mdef\u001b[0m \u001b[0m__init__\u001b[0m\u001b[0;34m(\u001b[0m\u001b[0mself\u001b[0m\u001b[0;34m,\u001b[0m \u001b[0mn_splits\u001b[0m\u001b[0;34m=\u001b[0m\u001b[0;36m5\u001b[0m\u001b[0;34m,\u001b[0m \u001b[0;34m*\u001b[0m\u001b[0;34m,\u001b[0m \u001b[0mshuffle\u001b[0m\u001b[0;34m=\u001b[0m\u001b[0;32mFalse\u001b[0m\u001b[0;34m,\u001b[0m \u001b[0mrandom_state\u001b[0m\u001b[0;34m=\u001b[0m\u001b[0;32mNone\u001b[0m\u001b[0;34m)\u001b[0m\u001b[0;34m:\u001b[0m\u001b[0;34m\u001b[0m\u001b[0;34m\u001b[0m\u001b[0m\n\u001b[0;32m--> 668\u001b[0;31m         \u001b[0msuper\u001b[0m\u001b[0;34m(\u001b[0m\u001b[0;34m)\u001b[0m\u001b[0;34m.\u001b[0m\u001b[0m__init__\u001b[0m\u001b[0;34m(\u001b[0m\u001b[0mn_splits\u001b[0m\u001b[0;34m=\u001b[0m\u001b[0mn_splits\u001b[0m\u001b[0;34m,\u001b[0m \u001b[0mshuffle\u001b[0m\u001b[0;34m=\u001b[0m\u001b[0mshuffle\u001b[0m\u001b[0;34m,\u001b[0m \u001b[0mrandom_state\u001b[0m\u001b[0;34m=\u001b[0m\u001b[0mrandom_state\u001b[0m\u001b[0;34m)\u001b[0m\u001b[0;34m\u001b[0m\u001b[0;34m\u001b[0m\u001b[0m\n\u001b[0m\u001b[1;32m    669\u001b[0m \u001b[0;34m\u001b[0m\u001b[0m\n\u001b[1;32m    670\u001b[0m     \u001b[0;32mdef\u001b[0m \u001b[0m_make_test_folds\u001b[0m\u001b[0;34m(\u001b[0m\u001b[0mself\u001b[0m\u001b[0;34m,\u001b[0m \u001b[0mX\u001b[0m\u001b[0;34m,\u001b[0m \u001b[0my\u001b[0m\u001b[0;34m=\u001b[0m\u001b[0;32mNone\u001b[0m\u001b[0;34m)\u001b[0m\u001b[0;34m:\u001b[0m\u001b[0;34m\u001b[0m\u001b[0;34m\u001b[0m\u001b[0m\n",
            "\u001b[0;32m/usr/local/lib/python3.10/dist-packages/sklearn/model_selection/_split.py\u001b[0m in \u001b[0;36m__init__\u001b[0;34m(self, n_splits, shuffle, random_state)\u001b[0m\n\u001b[1;32m    306\u001b[0m \u001b[0;34m\u001b[0m\u001b[0m\n\u001b[1;32m    307\u001b[0m         \u001b[0;32mif\u001b[0m \u001b[0;32mnot\u001b[0m \u001b[0mshuffle\u001b[0m \u001b[0;32mand\u001b[0m \u001b[0mrandom_state\u001b[0m \u001b[0;32mis\u001b[0m \u001b[0;32mnot\u001b[0m \u001b[0;32mNone\u001b[0m\u001b[0;34m:\u001b[0m  \u001b[0;31m# None is the default\u001b[0m\u001b[0;34m\u001b[0m\u001b[0;34m\u001b[0m\u001b[0m\n\u001b[0;32m--> 308\u001b[0;31m             raise ValueError(\n\u001b[0m\u001b[1;32m    309\u001b[0m                 \u001b[0;34m\"Setting a random_state has no effect since shuffle is \"\u001b[0m\u001b[0;34m\u001b[0m\u001b[0;34m\u001b[0m\u001b[0m\n\u001b[1;32m    310\u001b[0m                 \u001b[0;34m\"False. You should leave \"\u001b[0m\u001b[0;34m\u001b[0m\u001b[0;34m\u001b[0m\u001b[0m\n",
            "\u001b[0;31mValueError\u001b[0m: Setting a random_state has no effect since shuffle is False. You should leave random_state to its default (None), or set shuffle=True."
          ]
        }
      ]
    },
    {
      "cell_type": "markdown",
      "source": [
        "## Performing functions on test set"
      ],
      "metadata": {
        "id": "NfJqV3dS-eG0"
      }
    },
    {
      "cell_type": "code",
      "source": [
        "# Creating way of scoring\n",
        "f2_scorer = make_scorer(fbeta_score, beta=2)\n",
        "# Initializing cross-validation\n",
        "cv = StratifiedKFold(n_splits=5)\n",
        "\n",
        "# Pre-processing on test set\n",
        "X_test_scaled = scaling(X_test)\n",
        "Y_test_encoded = label_encoder(Y_test)\n",
        "\n",
        "# Select the right columns based on the selected columns in the pre-processing of the train set\n",
        "X_test_useful_features = X_test_scaled[feature_names]\n",
        "\n",
        "# Create a table with all the metrics of the classifiers performed on the training set\n",
        "clf = [voting_classifier]\n",
        "metrics(clf, X_test_useful_features, Y_test_encoded)\n",
        "\n",
        "# ROC curve plotten\n",
        "Y_pred_roc = voting_classifier.predict_proba(X_test_useful_features)[:,1]\n",
        "plot_roc_curve(Y_pred_roc, Y_test_encoded)\n",
        "\n",
        "# Creating a confusion matrix\n",
        "Y_pred_cm = voting_classifier.predict(X_test_useful_features)\n",
        "determine_confusion_matrix(Y_test_encoded, Y_pred_cm)"
      ],
      "metadata": {
        "id": "L-JlGt2m-gC7",
        "outputId": "52fa9a8b-9044-496d-b9f0-4d5a8b7cd0ce",
        "colab": {
          "base_uri": "https://localhost:8080/",
          "height": 1000
        }
      },
      "execution_count": 63,
      "outputs": [
        {
          "output_type": "stream",
          "name": "stdout",
          "text": [
            "Coded classes: ['benign' 'malignant']\n",
            "+------------------+--------------------+-----------+--------+--------------------+--------------------+\n",
            "|                  |      Accuracy      | Precision | Recall |      F2 score      |      ROC AUC       |\n",
            "+------------------+--------------------+-----------+--------+--------------------+--------------------+\n",
            "| VotingClassifier | 0.7357142857142858 |   0.805   |  0.8   | 0.7391806722689076 | 0.8583333333333332 |\n",
            "+------------------+--------------------+-----------+--------+--------------------+--------------------+\n"
          ]
        },
        {
          "output_type": "display_data",
          "data": {
            "text/plain": [
              "<Figure size 640x480 with 1 Axes>"
            ],
            "image/png": "[encoded data removed]"
          },
          "metadata": {}
        },
        {
          "output_type": "display_data",
          "data": {
            "text/plain": [
              "<Figure size 640x480 with 2 Axes>"
            ],
            "image/png": "[encoded data removed]"
          },
          "metadata": {}
        }
      ]
    }
  ],
  "metadata": {
    "colab": {
      "provenance": [],
      "include_colab_link": true
    },
    "kernelspec": {
      "display_name": "Python 3",
      "language": "python",
      "name": "python3"
    },
    "language_info": {
      "codemirror_mode": {
        "name": "ipython",
        "version": 3
      },
      "file_extension": ".py",
      "mimetype": "text/x-python",
      "name": "python",
      "nbconvert_exporter": "python",
      "pygments_lexer": "ipython3",
      "version": "3.8.5"
    }
  },
  "nbformat": 4,
  "nbformat_minor": 0
}